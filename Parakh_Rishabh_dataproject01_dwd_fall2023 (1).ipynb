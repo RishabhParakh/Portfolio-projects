{
  "nbformat": 4,
  "nbformat_minor": 0,
  "metadata": {
    "colab": {
      "provenance": []
    },
    "kernelspec": {
      "name": "python3",
      "display_name": "Python 3"
    },
    "language_info": {
      "name": "python"
    }
  },
  "cells": [
    {
      "cell_type": "markdown",
      "source": [
        "**Global Trends in CO2 Emissions and Their Impact on Air Quality**\n",
        "\n",
        "\n",
        "by Rishabh Parakh\n",
        "\n"
      ],
      "metadata": {
        "id": "QiY5O3nTh933"
      }
    },
    {
      "cell_type": "markdown",
      "source": [
        "**Project Objective**\n",
        "\n",
        "To identify the primary sectoral sources of CO2 in the top emitting countries and examine whether there is a direct correlation between these emissions and corresponding air quality measures."
      ],
      "metadata": {
        "id": "fv7E4X4YxUij"
      }
    },
    {
      "cell_type": "markdown",
      "source": [
        "**DATA OVERVIEW:**\n",
        "\n",
        "DATASET1(CO2 and Greenhouse Gas Emissions Dataset:)\n",
        "\n",
        "Data source: Data is sourced from the [Global Carbon Project](http://www.globalcarbonproject.org/carbonbudget)\n",
        "\n",
        "Year: 1750-2020\n",
        "\n",
        "Number of Observations: 25,204\n",
        "\n",
        "DATASET2(Global Air Pollution Dataset:)\n",
        "\n",
        "Data source: Data is collected from https://www.elichens.com/\n",
        "\n",
        "Year: 2020\n",
        "\n",
        "Number of Observations: 23,463"
      ],
      "metadata": {
        "id": "Xrzv224LCeJr"
      }
    },
    {
      "cell_type": "markdown",
      "source": [
        "D1: DATA IMPORT"
      ],
      "metadata": {
        "id": "d6Ou7WAr0zy0"
      }
    },
    {
      "cell_type": "code",
      "execution_count": null,
      "metadata": {
        "id": "7tynzPT4PWCV"
      },
      "outputs": [],
      "source": [
        "!pip install -q kaggle"
      ]
    },
    {
      "cell_type": "code",
      "source": [
        "from google.colab import files\n",
        "files.upload()"
      ],
      "metadata": {
        "colab": {
          "base_uri": "https://localhost:8080/",
          "height": 90
        },
        "id": "Bvb0f6_kP5YE",
        "outputId": "a8438644-8ea7-4565-83b5-1c044355f493"
      },
      "execution_count": null,
      "outputs": [
        {
          "output_type": "display_data",
          "data": {
            "text/plain": [
              "<IPython.core.display.HTML object>"
            ],
            "text/html": [
              "\n",
              "     <input type=\"file\" id=\"files-6f0753b7-1277-423b-bf7b-961ba5feba97\" name=\"files[]\" multiple disabled\n",
              "        style=\"border:none\" />\n",
              "     <output id=\"result-6f0753b7-1277-423b-bf7b-961ba5feba97\">\n",
              "      Upload widget is only available when the cell has been executed in the\n",
              "      current browser session. Please rerun this cell to enable.\n",
              "      </output>\n",
              "      <script>// Copyright 2017 Google LLC\n",
              "//\n",
              "// Licensed under the Apache License, Version 2.0 (the \"License\");\n",
              "// you may not use this file except in compliance with the License.\n",
              "// You may obtain a copy of the License at\n",
              "//\n",
              "//      http://www.apache.org/licenses/LICENSE-2.0\n",
              "//\n",
              "// Unless required by applicable law or agreed to in writing, software\n",
              "// distributed under the License is distributed on an \"AS IS\" BASIS,\n",
              "// WITHOUT WARRANTIES OR CONDITIONS OF ANY KIND, either express or implied.\n",
              "// See the License for the specific language governing permissions and\n",
              "// limitations under the License.\n",
              "\n",
              "/**\n",
              " * @fileoverview Helpers for google.colab Python module.\n",
              " */\n",
              "(function(scope) {\n",
              "function span(text, styleAttributes = {}) {\n",
              "  const element = document.createElement('span');\n",
              "  element.textContent = text;\n",
              "  for (const key of Object.keys(styleAttributes)) {\n",
              "    element.style[key] = styleAttributes[key];\n",
              "  }\n",
              "  return element;\n",
              "}\n",
              "\n",
              "// Max number of bytes which will be uploaded at a time.\n",
              "const MAX_PAYLOAD_SIZE = 100 * 1024;\n",
              "\n",
              "function _uploadFiles(inputId, outputId) {\n",
              "  const steps = uploadFilesStep(inputId, outputId);\n",
              "  const outputElement = document.getElementById(outputId);\n",
              "  // Cache steps on the outputElement to make it available for the next call\n",
              "  // to uploadFilesContinue from Python.\n",
              "  outputElement.steps = steps;\n",
              "\n",
              "  return _uploadFilesContinue(outputId);\n",
              "}\n",
              "\n",
              "// This is roughly an async generator (not supported in the browser yet),\n",
              "// where there are multiple asynchronous steps and the Python side is going\n",
              "// to poll for completion of each step.\n",
              "// This uses a Promise to block the python side on completion of each step,\n",
              "// then passes the result of the previous step as the input to the next step.\n",
              "function _uploadFilesContinue(outputId) {\n",
              "  const outputElement = document.getElementById(outputId);\n",
              "  const steps = outputElement.steps;\n",
              "\n",
              "  const next = steps.next(outputElement.lastPromiseValue);\n",
              "  return Promise.resolve(next.value.promise).then((value) => {\n",
              "    // Cache the last promise value to make it available to the next\n",
              "    // step of the generator.\n",
              "    outputElement.lastPromiseValue = value;\n",
              "    return next.value.response;\n",
              "  });\n",
              "}\n",
              "\n",
              "/**\n",
              " * Generator function which is called between each async step of the upload\n",
              " * process.\n",
              " * @param {string} inputId Element ID of the input file picker element.\n",
              " * @param {string} outputId Element ID of the output display.\n",
              " * @return {!Iterable<!Object>} Iterable of next steps.\n",
              " */\n",
              "function* uploadFilesStep(inputId, outputId) {\n",
              "  const inputElement = document.getElementById(inputId);\n",
              "  inputElement.disabled = false;\n",
              "\n",
              "  const outputElement = document.getElementById(outputId);\n",
              "  outputElement.innerHTML = '';\n",
              "\n",
              "  const pickedPromise = new Promise((resolve) => {\n",
              "    inputElement.addEventListener('change', (e) => {\n",
              "      resolve(e.target.files);\n",
              "    });\n",
              "  });\n",
              "\n",
              "  const cancel = document.createElement('button');\n",
              "  inputElement.parentElement.appendChild(cancel);\n",
              "  cancel.textContent = 'Cancel upload';\n",
              "  const cancelPromise = new Promise((resolve) => {\n",
              "    cancel.onclick = () => {\n",
              "      resolve(null);\n",
              "    };\n",
              "  });\n",
              "\n",
              "  // Wait for the user to pick the files.\n",
              "  const files = yield {\n",
              "    promise: Promise.race([pickedPromise, cancelPromise]),\n",
              "    response: {\n",
              "      action: 'starting',\n",
              "    }\n",
              "  };\n",
              "\n",
              "  cancel.remove();\n",
              "\n",
              "  // Disable the input element since further picks are not allowed.\n",
              "  inputElement.disabled = true;\n",
              "\n",
              "  if (!files) {\n",
              "    return {\n",
              "      response: {\n",
              "        action: 'complete',\n",
              "      }\n",
              "    };\n",
              "  }\n",
              "\n",
              "  for (const file of files) {\n",
              "    const li = document.createElement('li');\n",
              "    li.append(span(file.name, {fontWeight: 'bold'}));\n",
              "    li.append(span(\n",
              "        `(${file.type || 'n/a'}) - ${file.size} bytes, ` +\n",
              "        `last modified: ${\n",
              "            file.lastModifiedDate ? file.lastModifiedDate.toLocaleDateString() :\n",
              "                                    'n/a'} - `));\n",
              "    const percent = span('0% done');\n",
              "    li.appendChild(percent);\n",
              "\n",
              "    outputElement.appendChild(li);\n",
              "\n",
              "    const fileDataPromise = new Promise((resolve) => {\n",
              "      const reader = new FileReader();\n",
              "      reader.onload = (e) => {\n",
              "        resolve(e.target.result);\n",
              "      };\n",
              "      reader.readAsArrayBuffer(file);\n",
              "    });\n",
              "    // Wait for the data to be ready.\n",
              "    let fileData = yield {\n",
              "      promise: fileDataPromise,\n",
              "      response: {\n",
              "        action: 'continue',\n",
              "      }\n",
              "    };\n",
              "\n",
              "    // Use a chunked sending to avoid message size limits. See b/62115660.\n",
              "    let position = 0;\n",
              "    do {\n",
              "      const length = Math.min(fileData.byteLength - position, MAX_PAYLOAD_SIZE);\n",
              "      const chunk = new Uint8Array(fileData, position, length);\n",
              "      position += length;\n",
              "\n",
              "      const base64 = btoa(String.fromCharCode.apply(null, chunk));\n",
              "      yield {\n",
              "        response: {\n",
              "          action: 'append',\n",
              "          file: file.name,\n",
              "          data: base64,\n",
              "        },\n",
              "      };\n",
              "\n",
              "      let percentDone = fileData.byteLength === 0 ?\n",
              "          100 :\n",
              "          Math.round((position / fileData.byteLength) * 100);\n",
              "      percent.textContent = `${percentDone}% done`;\n",
              "\n",
              "    } while (position < fileData.byteLength);\n",
              "  }\n",
              "\n",
              "  // All done.\n",
              "  yield {\n",
              "    response: {\n",
              "      action: 'complete',\n",
              "    }\n",
              "  };\n",
              "}\n",
              "\n",
              "scope.google = scope.google || {};\n",
              "scope.google.colab = scope.google.colab || {};\n",
              "scope.google.colab._files = {\n",
              "  _uploadFiles,\n",
              "  _uploadFilesContinue,\n",
              "};\n",
              "})(self);\n",
              "</script> "
            ]
          },
          "metadata": {}
        },
        {
          "output_type": "stream",
          "name": "stdout",
          "text": [
            "Saving kaggle.json to kaggle.json\n"
          ]
        },
        {
          "output_type": "execute_result",
          "data": {
            "text/plain": [
              "{'kaggle.json': b'{\"username\":\"rishabhparakh03\",\"key\":\"4b49c39e5550d04c2e28ab6ede62ba2f\"}'}"
            ]
          },
          "metadata": {},
          "execution_count": 2
        }
      ]
    },
    {
      "cell_type": "code",
      "source": [
        "!mkdir ~/.kaggle"
      ],
      "metadata": {
        "id": "QkN-YMmtQCKC"
      },
      "execution_count": null,
      "outputs": []
    },
    {
      "cell_type": "code",
      "source": [
        "!cp kaggle.json ~/.kaggle"
      ],
      "metadata": {
        "id": "xGs5AegwQssd"
      },
      "execution_count": null,
      "outputs": []
    },
    {
      "cell_type": "code",
      "source": [
        "!chmod 600 ~/.kaggle/kaggle.json"
      ],
      "metadata": {
        "id": "YSbuvw4jQ6Mg"
      },
      "execution_count": null,
      "outputs": []
    },
    {
      "cell_type": "code",
      "source": [
        "!kaggle datasets list"
      ],
      "metadata": {
        "colab": {
          "base_uri": "https://localhost:8080/"
        },
        "id": "T8NVMufxRW1F",
        "outputId": "5f81171e-e09f-4b1a-8a04-d67843728a74"
      },
      "execution_count": null,
      "outputs": [
        {
          "output_type": "stream",
          "name": "stdout",
          "text": [
            "ref                                                       title                                   size  lastUpdated          downloadCount  voteCount  usabilityRating  \n",
            "--------------------------------------------------------  -------------------------------------  -----  -------------------  -------------  ---------  ---------------  \n",
            "thedrcat/daigt-v2-train-dataset                           DAIGT V2 Train Dataset                  29MB  2023-11-16 01:38:36           1283        140  1.0              \n",
            "muhammadbinimran/housing-price-prediction-data            Housing Price Prediction Data          763KB  2023-11-21 17:56:32           5175         95  1.0              \n",
            "thedevastator/netflix-imdb-scores                         Netflix IMDB Scores                    699KB  2023-12-03 14:10:34           1233         24  1.0              \n",
            "youssefaboelwafa/hotel-booking-cancellation-prediction    Hotel Booking Cancellation Prediction  470KB  2023-12-03 01:54:35            804         24  1.0              \n",
            "joebeachcapital/30000-spotify-songs                       30000 Spotify Songs                      3MB  2023-11-01 06:06:43          10259        221  1.0              \n",
            "thedrcat/daigt-proper-train-dataset                       DAIGT Proper Train Dataset             119MB  2023-11-05 14:03:25           1498        136  1.0              \n",
            "carlmcbrideellis/llm-7-prompt-training-dataset            LLM: 7 prompt training dataset          41MB  2023-11-15 07:32:56           1524        115  1.0              \n",
            "jacksondivakarr/student-classification-dataset            Student Classification Dataset          15KB  2023-12-02 16:23:43            732         24  1.0              \n",
            "julnazz/diabetes-health-indicators-dataset                Diabetes Health Indicators Dataset       5MB  2023-11-27 07:10:53           1030         28  1.0              \n",
            "ddosad/auto-sales-data                                    Automobile Sales data                   79KB  2023-11-18 12:36:41           4089         72  1.0              \n",
            "nelgiriyewithana/world-educational-data                   World Educational Data                   9KB  2023-11-04 06:10:17           8108        167  1.0              \n",
            "jacksondivakarr/laptop-price-prediction-dataset           Laptop Price Prediction Dataset        119KB  2023-11-30 16:23:34            924         30  1.0              \n",
            "stealthtechnologies/predict-lifespan-of-a-comet-goldfish  Predict lifespan of a comet goldfish    25KB  2023-11-26 07:12:18            583         23  1.0              \n",
            "thedevastator/bank-term-deposit-predictions               Bank Term Deposit Predictions          541KB  2023-11-30 14:37:39            954         34  1.0              \n",
            "ahmedabbas757/coffee-sales                                Coffee Shop Sales                        8MB  2023-12-01 19:04:06            915         26  0.7058824        \n",
            "sujaykapadnis/products-datasets                           Detailed Products Datasets             100KB  2023-11-24 03:25:10           1122         27  1.0              \n",
            "prasad22/healthcare-dataset                               🩺Healthcare Dataset 🧪                  483KB  2023-10-31 11:30:58           7223        111  1.0              \n",
            "alejopaullier/daigt-external-dataset                      DAIGT | External Dataset                 3MB  2023-10-31 19:11:35           1011        123  0.7647059        \n",
            "nelgiriyewithana/australian-vehicle-prices                Australian Vehicle Prices              582KB  2023-11-27 04:51:30           1227         45  1.0              \n",
            "jacksondivakarr/online-shopping-dataset                   🛒 Online Shopping Dataset 📊📉📈            5MB  2023-11-12 12:35:58           4255         78  1.0              \n"
          ]
        }
      ]
    },
    {
      "cell_type": "code",
      "source": [
        "!kaggle datasets download -d hasibalmuzdadid/global-air-pollution-dataset"
      ],
      "metadata": {
        "colab": {
          "base_uri": "https://localhost:8080/"
        },
        "id": "5megLaGbWFYM",
        "outputId": "65284cb2-a592-4716-faa5-c4b62fd63151"
      },
      "execution_count": null,
      "outputs": [
        {
          "output_type": "stream",
          "name": "stdout",
          "text": [
            "Downloading global-air-pollution-dataset.zip to /content\n",
            "\r  0% 0.00/371k [00:00<?, ?B/s]\n",
            "\r100% 371k/371k [00:00<00:00, 135MB/s]\n"
          ]
        }
      ]
    },
    {
      "cell_type": "code",
      "source": [
        "!unzip global-air-pollution-dataset.zip"
      ],
      "metadata": {
        "colab": {
          "base_uri": "https://localhost:8080/"
        },
        "id": "GIgfQpEUXdhJ",
        "outputId": "f35a58d6-85f8-4a32-d1d7-1f243bd5e7b5"
      },
      "execution_count": null,
      "outputs": [
        {
          "output_type": "stream",
          "name": "stdout",
          "text": [
            "Archive:  global-air-pollution-dataset.zip\n",
            "  inflating: global air pollution dataset.csv  \n"
          ]
        }
      ]
    },
    {
      "cell_type": "code",
      "source": [
        "import numpy as np\n",
        "import pandas as pd"
      ],
      "metadata": {
        "id": "47fawfQrYnjG"
      },
      "execution_count": null,
      "outputs": []
    },
    {
      "cell_type": "code",
      "source": [
        "df=pd.read_csv(\"global air pollution dataset.csv\")"
      ],
      "metadata": {
        "id": "Vt8iDvGBY2IX"
      },
      "execution_count": null,
      "outputs": []
    },
    {
      "cell_type": "code",
      "source": [
        "!kaggle datasets download -d danielrpdias/co2-and-greenhouse-gas-emissions"
      ],
      "metadata": {
        "colab": {
          "base_uri": "https://localhost:8080/"
        },
        "id": "GYxUUGq_op86",
        "outputId": "308e2e89-a99a-48c6-e17c-327dc2b59aa9"
      },
      "execution_count": null,
      "outputs": [
        {
          "output_type": "stream",
          "name": "stdout",
          "text": [
            "Downloading co2-and-greenhouse-gas-emissions.zip to /content\n",
            "\r  0% 0.00/1.74M [00:00<?, ?B/s]\n",
            "\r100% 1.74M/1.74M [00:00<00:00, 183MB/s]\n"
          ]
        }
      ]
    },
    {
      "cell_type": "code",
      "source": [
        "!unzip co2-and-greenhouse-gas-emissions.zip"
      ],
      "metadata": {
        "colab": {
          "base_uri": "https://localhost:8080/"
        },
        "id": "xTWGszK_pNJt",
        "outputId": "f9efa275-543c-4916-e1e7-25a2aff4c884"
      },
      "execution_count": null,
      "outputs": [
        {
          "output_type": "stream",
          "name": "stdout",
          "text": [
            "Archive:  co2-and-greenhouse-gas-emissions.zip\n",
            "  inflating: owid-co2-data.csv       \n"
          ]
        }
      ]
    },
    {
      "cell_type": "code",
      "source": [
        "df1=pd.read_csv(\"owid-co2-data.csv\")"
      ],
      "metadata": {
        "id": "tcWV_5fwpdkj"
      },
      "execution_count": null,
      "outputs": []
    },
    {
      "cell_type": "markdown",
      "source": [
        "D2: DATA-PREPROCESSING\n"
      ],
      "metadata": {
        "id": "HYMJXpNd1AJA"
      }
    },
    {
      "cell_type": "code",
      "source": [
        "# Fill missing values in numerical columns with the median\n",
        "numerical_cols = df1.select_dtypes(include=['float64', 'int64']).columns\n",
        "df1[numerical_cols] = df1[numerical_cols].apply(lambda x: x.fillna(x.median()))\n",
        "\n",
        "# Fill missing values in categorical columns with 'Unknown'\n",
        "categorical_cols = df1.select_dtypes(include=['object']).columns\n",
        "df1[categorical_cols] = df1[categorical_cols].fillna('Unknown')\n"
      ],
      "metadata": {
        "id": "a9c-6WVhxQCh"
      },
      "execution_count": null,
      "outputs": []
    },
    {
      "cell_type": "code",
      "source": [
        "# Renaming columns with unclear names or long spaces\n",
        "renamed_columns = {\n",
        "    'co2': 'CO2_Emissions',\n",
        "    'consumption_co2': 'CO2_Consumption',\n",
        "    'co2_per_capita': 'CO2_Emissions_Per_Capita',\n",
        "    'trade_co2': 'CO2_Trade'\n",
        "    # Add more as needed\n",
        "}\n",
        "data_renamed = df1.rename(columns=renamed_columns)\n"
      ],
      "metadata": {
        "id": "4EDL4MiIxsuD"
      },
      "execution_count": null,
      "outputs": []
    },
    {
      "cell_type": "code",
      "source": [
        "# Capping outliers in 'CO2_Emissions' at the 1st and 99th percentiles\n",
        "q_low = data_renamed['CO2_Emissions'].quantile(0.01)\n",
        "q_high = data_renamed['CO2_Emissions'].quantile(0.99)\n",
        "data_renamed['CO2_Emissions'] = data_renamed['CO2_Emissions'].clip(lower=q_low, upper=q_high)\n"
      ],
      "metadata": {
        "id": "MHa3GKpWx6dD"
      },
      "execution_count": null,
      "outputs": []
    },
    {
      "cell_type": "code",
      "source": [
        "# Formatting 'gdp' with thousand separators\n",
        "data_renamed['gdp'] = data_renamed['gdp'].apply(lambda x: f\"{x:,.0f}\" if pd.notnull(x) else x)\n",
        "\n",
        "# Displaying the results\n",
        "data_cleaned = data_renamed\n",
        "print(data_cleaned.head())\n",
        "print(data_cleaned.dtypes)\n"
      ],
      "metadata": {
        "colab": {
          "base_uri": "https://localhost:8080/"
        },
        "id": "GX8d-9nuyKKV",
        "outputId": "c5da3d92-55e9-40ae-e8db-8c46fe80cc0e"
      },
      "execution_count": null,
      "outputs": [
        {
          "output_type": "stream",
          "name": "stdout",
          "text": [
            "  iso_code      country  year  CO2_Emissions  CO2_Consumption  \\\n",
            "0      AFG  Afghanistan  1949          0.015           57.091   \n",
            "1      AFG  Afghanistan  1950          0.084           57.091   \n",
            "2      AFG  Afghanistan  1951          0.092           57.091   \n",
            "3      AFG  Afghanistan  1952          0.092           57.091   \n",
            "4      AFG  Afghanistan  1953          0.106           57.091   \n",
            "\n",
            "   co2_growth_prct  co2_growth_abs  CO2_Trade  CO2_Emissions_Per_Capita  \\\n",
            "0             3.35           0.059      1.953                     0.002   \n",
            "1           475.00           0.070      1.953                     0.011   \n",
            "2             8.70           0.007      1.953                     0.012   \n",
            "3             0.00           0.000      1.953                     0.012   \n",
            "4            16.00           0.015      1.953                     0.013   \n",
            "\n",
            "   consumption_co2_per_capita  ...  ghg_per_capita  methane  \\\n",
            "0                      4.3595  ...           5.474     9.03   \n",
            "1                      4.3595  ...           5.474     9.03   \n",
            "2                      4.3595  ...           5.474     9.03   \n",
            "3                      4.3595  ...           5.474     9.03   \n",
            "4                      4.3595  ...           5.474     9.03   \n",
            "\n",
            "   methane_per_capita  nitrous_oxide  nitrous_oxide_per_capita  population  \\\n",
            "0               1.111           3.59                     0.384   7624058.0   \n",
            "1               1.111           3.59                     0.384   7752117.0   \n",
            "2               1.111           3.59                     0.384   7840151.0   \n",
            "3               1.111           3.59                     0.384   7935996.0   \n",
            "4               1.111           3.59                     0.384   8039684.0   \n",
            "\n",
            "              gdp  primary_energy_consumption  energy_per_capita  \\\n",
            "0  30,370,194,552                     61.4045          13701.318   \n",
            "1   9,421,400,000                     61.4045          13701.318   \n",
            "2   9,692,280,000                     61.4045          13701.318   \n",
            "3  10,017,325,000                     61.4045          13701.318   \n",
            "4  10,630,520,000                     61.4045          13701.318   \n",
            "\n",
            "   energy_per_gdp  \n",
            "0           1.407  \n",
            "1           1.407  \n",
            "2           1.407  \n",
            "3           1.407  \n",
            "4           1.407  \n",
            "\n",
            "[5 rows x 58 columns]\n",
            "iso_code                                object\n",
            "country                                 object\n",
            "year                                     int64\n",
            "CO2_Emissions                          float64\n",
            "CO2_Consumption                        float64\n",
            "co2_growth_prct                        float64\n",
            "co2_growth_abs                         float64\n",
            "CO2_Trade                              float64\n",
            "CO2_Emissions_Per_Capita               float64\n",
            "consumption_co2_per_capita             float64\n",
            "share_global_co2                       float64\n",
            "cumulative_co2                         float64\n",
            "share_global_cumulative_co2            float64\n",
            "co2_per_gdp                            float64\n",
            "consumption_co2_per_gdp                float64\n",
            "co2_per_unit_energy                    float64\n",
            "coal_co2                               float64\n",
            "cement_co2                             float64\n",
            "flaring_co2                            float64\n",
            "gas_co2                                float64\n",
            "oil_co2                                float64\n",
            "other_industry_co2                     float64\n",
            "cement_co2_per_capita                  float64\n",
            "coal_co2_per_capita                    float64\n",
            "flaring_co2_per_capita                 float64\n",
            "gas_co2_per_capita                     float64\n",
            "oil_co2_per_capita                     float64\n",
            "other_co2_per_capita                   float64\n",
            "trade_co2_share                        float64\n",
            "share_global_cement_co2                float64\n",
            "share_global_coal_co2                  float64\n",
            "share_global_flaring_co2               float64\n",
            "share_global_gas_co2                   float64\n",
            "share_global_oil_co2                   float64\n",
            "share_global_other_co2                 float64\n",
            "cumulative_cement_co2                  float64\n",
            "cumulative_coal_co2                    float64\n",
            "cumulative_flaring_co2                 float64\n",
            "cumulative_gas_co2                     float64\n",
            "cumulative_oil_co2                     float64\n",
            "cumulative_other_co2                   float64\n",
            "share_global_cumulative_cement_co2     float64\n",
            "share_global_cumulative_coal_co2       float64\n",
            "share_global_cumulative_flaring_co2    float64\n",
            "share_global_cumulative_gas_co2        float64\n",
            "share_global_cumulative_oil_co2        float64\n",
            "share_global_cumulative_other_co2      float64\n",
            "total_ghg                              float64\n",
            "ghg_per_capita                         float64\n",
            "methane                                float64\n",
            "methane_per_capita                     float64\n",
            "nitrous_oxide                          float64\n",
            "nitrous_oxide_per_capita               float64\n",
            "population                             float64\n",
            "gdp                                     object\n",
            "primary_energy_consumption             float64\n",
            "energy_per_capita                      float64\n",
            "energy_per_gdp                         float64\n",
            "dtype: object\n"
          ]
        }
      ]
    },
    {
      "cell_type": "code",
      "source": [
        "# Fill missing values in numerical columns with the median\n",
        "numerical_cols_air = df.select_dtypes(include=['float64', 'int64']).columns\n",
        "df[numerical_cols_air] = df[numerical_cols_air].apply(lambda x: x.fillna(x.median()))\n",
        "\n",
        "# Fill missing values in categorical columns with 'Unknown'\n",
        "categorical_cols_air = df.select_dtypes(include=['object']).columns\n",
        "df[categorical_cols_air] = df[categorical_cols_air].fillna('Unknown')"
      ],
      "metadata": {
        "id": "iJNdIzyXyPlc"
      },
      "execution_count": null,
      "outputs": []
    },
    {
      "cell_type": "code",
      "source": [
        "print(df.head())\n",
        "print(df.dtypes)"
      ],
      "metadata": {
        "colab": {
          "base_uri": "https://localhost:8080/"
        },
        "id": "hoyh3Rzm1uVY",
        "outputId": "9490f542-18b2-4aef-9b9e-d09558fe207f"
      },
      "execution_count": null,
      "outputs": [
        {
          "output_type": "stream",
          "name": "stdout",
          "text": [
            "              Country              City  AQI Value AQI Category  CO AQI Value  \\\n",
            "0  Russian Federation        Praskoveya         51     Moderate             1   \n",
            "1              Brazil  Presidente Dutra         41         Good             1   \n",
            "2               Italy   Priolo Gargallo         66     Moderate             1   \n",
            "3              Poland         Przasnysz         34         Good             1   \n",
            "4              France          Punaauia         22         Good             0   \n",
            "\n",
            "  CO AQI Category  Ozone AQI Value Ozone AQI Category  NO2 AQI Value  \\\n",
            "0            Good               36               Good              0   \n",
            "1            Good                5               Good              1   \n",
            "2            Good               39               Good              2   \n",
            "3            Good               34               Good              0   \n",
            "4            Good               22               Good              0   \n",
            "\n",
            "  NO2 AQI Category  PM2.5 AQI Value PM2.5 AQI Category  \n",
            "0             Good               51           Moderate  \n",
            "1             Good               41               Good  \n",
            "2             Good               66           Moderate  \n",
            "3             Good               20               Good  \n",
            "4             Good                6               Good  \n",
            "Country               object\n",
            "City                  object\n",
            "AQI Value              int64\n",
            "AQI Category          object\n",
            "CO AQI Value           int64\n",
            "CO AQI Category       object\n",
            "Ozone AQI Value        int64\n",
            "Ozone AQI Category    object\n",
            "NO2 AQI Value          int64\n",
            "NO2 AQI Category      object\n",
            "PM2.5 AQI Value        int64\n",
            "PM2.5 AQI Category    object\n",
            "dtype: object\n"
          ]
        }
      ]
    },
    {
      "cell_type": "code",
      "source": [
        "# Counting the total number of missing values in the dataset\n",
        "total_missing_values = df.isnull().sum().sum()\n",
        "\n",
        "# Outputting the result\n",
        "total_missing_values_output = f\"Total Missing Values in the Dataset: {total_missing_values}\"\n",
        "print(total_missing_values_output)"
      ],
      "metadata": {
        "colab": {
          "base_uri": "https://localhost:8080/"
        },
        "id": "eSOM2Gb42C2r",
        "outputId": "b9336ce3-b0ea-43a8-ece2-4a883b160061"
      },
      "execution_count": null,
      "outputs": [
        {
          "output_type": "stream",
          "name": "stdout",
          "text": [
            "Total Missing Values in the Dataset: 0\n"
          ]
        }
      ]
    },
    {
      "cell_type": "code",
      "source": [
        "\n",
        "data_cleaned.head(5)"
      ],
      "metadata": {
        "colab": {
          "base_uri": "https://localhost:8080/",
          "height": 255
        },
        "id": "ILYWFoSm1DGX",
        "outputId": "d3375487-0da4-43b6-9dfe-3e814c16beff"
      },
      "execution_count": null,
      "outputs": [
        {
          "output_type": "execute_result",
          "data": {
            "text/plain": [
              "  iso_code      country  year  CO2_Emissions  CO2_Consumption  \\\n",
              "0      AFG  Afghanistan  1949          0.015           57.091   \n",
              "1      AFG  Afghanistan  1950          0.084           57.091   \n",
              "2      AFG  Afghanistan  1951          0.092           57.091   \n",
              "3      AFG  Afghanistan  1952          0.092           57.091   \n",
              "4      AFG  Afghanistan  1953          0.106           57.091   \n",
              "\n",
              "   co2_growth_prct  co2_growth_abs  CO2_Trade  CO2_Emissions_Per_Capita  \\\n",
              "0             3.35           0.059      1.953                     0.002   \n",
              "1           475.00           0.070      1.953                     0.011   \n",
              "2             8.70           0.007      1.953                     0.012   \n",
              "3             0.00           0.000      1.953                     0.012   \n",
              "4            16.00           0.015      1.953                     0.013   \n",
              "\n",
              "   consumption_co2_per_capita  ...  ghg_per_capita  methane  \\\n",
              "0                      4.3595  ...           5.474     9.03   \n",
              "1                      4.3595  ...           5.474     9.03   \n",
              "2                      4.3595  ...           5.474     9.03   \n",
              "3                      4.3595  ...           5.474     9.03   \n",
              "4                      4.3595  ...           5.474     9.03   \n",
              "\n",
              "   methane_per_capita  nitrous_oxide  nitrous_oxide_per_capita  population  \\\n",
              "0               1.111           3.59                     0.384   7624058.0   \n",
              "1               1.111           3.59                     0.384   7752117.0   \n",
              "2               1.111           3.59                     0.384   7840151.0   \n",
              "3               1.111           3.59                     0.384   7935996.0   \n",
              "4               1.111           3.59                     0.384   8039684.0   \n",
              "\n",
              "              gdp  primary_energy_consumption  energy_per_capita  \\\n",
              "0  30,370,194,552                     61.4045          13701.318   \n",
              "1   9,421,400,000                     61.4045          13701.318   \n",
              "2   9,692,280,000                     61.4045          13701.318   \n",
              "3  10,017,325,000                     61.4045          13701.318   \n",
              "4  10,630,520,000                     61.4045          13701.318   \n",
              "\n",
              "   energy_per_gdp  \n",
              "0           1.407  \n",
              "1           1.407  \n",
              "2           1.407  \n",
              "3           1.407  \n",
              "4           1.407  \n",
              "\n",
              "[5 rows x 58 columns]"
            ],
            "text/html": [
              "\n",
              "  <div id=\"df-01f55195-72d2-4d52-a4cf-d62069ffa663\" class=\"colab-df-container\">\n",
              "    <div>\n",
              "<style scoped>\n",
              "    .dataframe tbody tr th:only-of-type {\n",
              "        vertical-align: middle;\n",
              "    }\n",
              "\n",
              "    .dataframe tbody tr th {\n",
              "        vertical-align: top;\n",
              "    }\n",
              "\n",
              "    .dataframe thead th {\n",
              "        text-align: right;\n",
              "    }\n",
              "</style>\n",
              "<table border=\"1\" class=\"dataframe\">\n",
              "  <thead>\n",
              "    <tr style=\"text-align: right;\">\n",
              "      <th></th>\n",
              "      <th>iso_code</th>\n",
              "      <th>country</th>\n",
              "      <th>year</th>\n",
              "      <th>CO2_Emissions</th>\n",
              "      <th>CO2_Consumption</th>\n",
              "      <th>co2_growth_prct</th>\n",
              "      <th>co2_growth_abs</th>\n",
              "      <th>CO2_Trade</th>\n",
              "      <th>CO2_Emissions_Per_Capita</th>\n",
              "      <th>consumption_co2_per_capita</th>\n",
              "      <th>...</th>\n",
              "      <th>ghg_per_capita</th>\n",
              "      <th>methane</th>\n",
              "      <th>methane_per_capita</th>\n",
              "      <th>nitrous_oxide</th>\n",
              "      <th>nitrous_oxide_per_capita</th>\n",
              "      <th>population</th>\n",
              "      <th>gdp</th>\n",
              "      <th>primary_energy_consumption</th>\n",
              "      <th>energy_per_capita</th>\n",
              "      <th>energy_per_gdp</th>\n",
              "    </tr>\n",
              "  </thead>\n",
              "  <tbody>\n",
              "    <tr>\n",
              "      <th>0</th>\n",
              "      <td>AFG</td>\n",
              "      <td>Afghanistan</td>\n",
              "      <td>1949</td>\n",
              "      <td>0.015</td>\n",
              "      <td>57.091</td>\n",
              "      <td>3.35</td>\n",
              "      <td>0.059</td>\n",
              "      <td>1.953</td>\n",
              "      <td>0.002</td>\n",
              "      <td>4.3595</td>\n",
              "      <td>...</td>\n",
              "      <td>5.474</td>\n",
              "      <td>9.03</td>\n",
              "      <td>1.111</td>\n",
              "      <td>3.59</td>\n",
              "      <td>0.384</td>\n",
              "      <td>7624058.0</td>\n",
              "      <td>30,370,194,552</td>\n",
              "      <td>61.4045</td>\n",
              "      <td>13701.318</td>\n",
              "      <td>1.407</td>\n",
              "    </tr>\n",
              "    <tr>\n",
              "      <th>1</th>\n",
              "      <td>AFG</td>\n",
              "      <td>Afghanistan</td>\n",
              "      <td>1950</td>\n",
              "      <td>0.084</td>\n",
              "      <td>57.091</td>\n",
              "      <td>475.00</td>\n",
              "      <td>0.070</td>\n",
              "      <td>1.953</td>\n",
              "      <td>0.011</td>\n",
              "      <td>4.3595</td>\n",
              "      <td>...</td>\n",
              "      <td>5.474</td>\n",
              "      <td>9.03</td>\n",
              "      <td>1.111</td>\n",
              "      <td>3.59</td>\n",
              "      <td>0.384</td>\n",
              "      <td>7752117.0</td>\n",
              "      <td>9,421,400,000</td>\n",
              "      <td>61.4045</td>\n",
              "      <td>13701.318</td>\n",
              "      <td>1.407</td>\n",
              "    </tr>\n",
              "    <tr>\n",
              "      <th>2</th>\n",
              "      <td>AFG</td>\n",
              "      <td>Afghanistan</td>\n",
              "      <td>1951</td>\n",
              "      <td>0.092</td>\n",
              "      <td>57.091</td>\n",
              "      <td>8.70</td>\n",
              "      <td>0.007</td>\n",
              "      <td>1.953</td>\n",
              "      <td>0.012</td>\n",
              "      <td>4.3595</td>\n",
              "      <td>...</td>\n",
              "      <td>5.474</td>\n",
              "      <td>9.03</td>\n",
              "      <td>1.111</td>\n",
              "      <td>3.59</td>\n",
              "      <td>0.384</td>\n",
              "      <td>7840151.0</td>\n",
              "      <td>9,692,280,000</td>\n",
              "      <td>61.4045</td>\n",
              "      <td>13701.318</td>\n",
              "      <td>1.407</td>\n",
              "    </tr>\n",
              "    <tr>\n",
              "      <th>3</th>\n",
              "      <td>AFG</td>\n",
              "      <td>Afghanistan</td>\n",
              "      <td>1952</td>\n",
              "      <td>0.092</td>\n",
              "      <td>57.091</td>\n",
              "      <td>0.00</td>\n",
              "      <td>0.000</td>\n",
              "      <td>1.953</td>\n",
              "      <td>0.012</td>\n",
              "      <td>4.3595</td>\n",
              "      <td>...</td>\n",
              "      <td>5.474</td>\n",
              "      <td>9.03</td>\n",
              "      <td>1.111</td>\n",
              "      <td>3.59</td>\n",
              "      <td>0.384</td>\n",
              "      <td>7935996.0</td>\n",
              "      <td>10,017,325,000</td>\n",
              "      <td>61.4045</td>\n",
              "      <td>13701.318</td>\n",
              "      <td>1.407</td>\n",
              "    </tr>\n",
              "    <tr>\n",
              "      <th>4</th>\n",
              "      <td>AFG</td>\n",
              "      <td>Afghanistan</td>\n",
              "      <td>1953</td>\n",
              "      <td>0.106</td>\n",
              "      <td>57.091</td>\n",
              "      <td>16.00</td>\n",
              "      <td>0.015</td>\n",
              "      <td>1.953</td>\n",
              "      <td>0.013</td>\n",
              "      <td>4.3595</td>\n",
              "      <td>...</td>\n",
              "      <td>5.474</td>\n",
              "      <td>9.03</td>\n",
              "      <td>1.111</td>\n",
              "      <td>3.59</td>\n",
              "      <td>0.384</td>\n",
              "      <td>8039684.0</td>\n",
              "      <td>10,630,520,000</td>\n",
              "      <td>61.4045</td>\n",
              "      <td>13701.318</td>\n",
              "      <td>1.407</td>\n",
              "    </tr>\n",
              "  </tbody>\n",
              "</table>\n",
              "<p>5 rows × 58 columns</p>\n",
              "</div>\n",
              "    <div class=\"colab-df-buttons\">\n",
              "\n",
              "  <div class=\"colab-df-container\">\n",
              "    <button class=\"colab-df-convert\" onclick=\"convertToInteractive('df-01f55195-72d2-4d52-a4cf-d62069ffa663')\"\n",
              "            title=\"Convert this dataframe to an interactive table.\"\n",
              "            style=\"display:none;\">\n",
              "\n",
              "  <svg xmlns=\"http://www.w3.org/2000/svg\" height=\"24px\" viewBox=\"0 -960 960 960\">\n",
              "    <path d=\"M120-120v-720h720v720H120Zm60-500h600v-160H180v160Zm220 220h160v-160H400v160Zm0 220h160v-160H400v160ZM180-400h160v-160H180v160Zm440 0h160v-160H620v160ZM180-180h160v-160H180v160Zm440 0h160v-160H620v160Z\"/>\n",
              "  </svg>\n",
              "    </button>\n",
              "\n",
              "  <style>\n",
              "    .colab-df-container {\n",
              "      display:flex;\n",
              "      gap: 12px;\n",
              "    }\n",
              "\n",
              "    .colab-df-convert {\n",
              "      background-color: #E8F0FE;\n",
              "      border: none;\n",
              "      border-radius: 50%;\n",
              "      cursor: pointer;\n",
              "      display: none;\n",
              "      fill: #1967D2;\n",
              "      height: 32px;\n",
              "      padding: 0 0 0 0;\n",
              "      width: 32px;\n",
              "    }\n",
              "\n",
              "    .colab-df-convert:hover {\n",
              "      background-color: #E2EBFA;\n",
              "      box-shadow: 0px 1px 2px rgba(60, 64, 67, 0.3), 0px 1px 3px 1px rgba(60, 64, 67, 0.15);\n",
              "      fill: #174EA6;\n",
              "    }\n",
              "\n",
              "    .colab-df-buttons div {\n",
              "      margin-bottom: 4px;\n",
              "    }\n",
              "\n",
              "    [theme=dark] .colab-df-convert {\n",
              "      background-color: #3B4455;\n",
              "      fill: #D2E3FC;\n",
              "    }\n",
              "\n",
              "    [theme=dark] .colab-df-convert:hover {\n",
              "      background-color: #434B5C;\n",
              "      box-shadow: 0px 1px 3px 1px rgba(0, 0, 0, 0.15);\n",
              "      filter: drop-shadow(0px 1px 2px rgba(0, 0, 0, 0.3));\n",
              "      fill: #FFFFFF;\n",
              "    }\n",
              "  </style>\n",
              "\n",
              "    <script>\n",
              "      const buttonEl =\n",
              "        document.querySelector('#df-01f55195-72d2-4d52-a4cf-d62069ffa663 button.colab-df-convert');\n",
              "      buttonEl.style.display =\n",
              "        google.colab.kernel.accessAllowed ? 'block' : 'none';\n",
              "\n",
              "      async function convertToInteractive(key) {\n",
              "        const element = document.querySelector('#df-01f55195-72d2-4d52-a4cf-d62069ffa663');\n",
              "        const dataTable =\n",
              "          await google.colab.kernel.invokeFunction('convertToInteractive',\n",
              "                                                    [key], {});\n",
              "        if (!dataTable) return;\n",
              "\n",
              "        const docLinkHtml = 'Like what you see? Visit the ' +\n",
              "          '<a target=\"_blank\" href=https://colab.research.google.com/notebooks/data_table.ipynb>data table notebook</a>'\n",
              "          + ' to learn more about interactive tables.';\n",
              "        element.innerHTML = '';\n",
              "        dataTable['output_type'] = 'display_data';\n",
              "        await google.colab.output.renderOutput(dataTable, element);\n",
              "        const docLink = document.createElement('div');\n",
              "        docLink.innerHTML = docLinkHtml;\n",
              "        element.appendChild(docLink);\n",
              "      }\n",
              "    </script>\n",
              "  </div>\n",
              "\n",
              "\n",
              "<div id=\"df-a08d3850-2fbc-4c82-a4e5-4ec16823220a\">\n",
              "  <button class=\"colab-df-quickchart\" onclick=\"quickchart('df-a08d3850-2fbc-4c82-a4e5-4ec16823220a')\"\n",
              "            title=\"Suggest charts\"\n",
              "            style=\"display:none;\">\n",
              "\n",
              "<svg xmlns=\"http://www.w3.org/2000/svg\" height=\"24px\"viewBox=\"0 0 24 24\"\n",
              "     width=\"24px\">\n",
              "    <g>\n",
              "        <path d=\"M19 3H5c-1.1 0-2 .9-2 2v14c0 1.1.9 2 2 2h14c1.1 0 2-.9 2-2V5c0-1.1-.9-2-2-2zM9 17H7v-7h2v7zm4 0h-2V7h2v10zm4 0h-2v-4h2v4z\"/>\n",
              "    </g>\n",
              "</svg>\n",
              "  </button>\n",
              "\n",
              "<style>\n",
              "  .colab-df-quickchart {\n",
              "      --bg-color: #E8F0FE;\n",
              "      --fill-color: #1967D2;\n",
              "      --hover-bg-color: #E2EBFA;\n",
              "      --hover-fill-color: #174EA6;\n",
              "      --disabled-fill-color: #AAA;\n",
              "      --disabled-bg-color: #DDD;\n",
              "  }\n",
              "\n",
              "  [theme=dark] .colab-df-quickchart {\n",
              "      --bg-color: #3B4455;\n",
              "      --fill-color: #D2E3FC;\n",
              "      --hover-bg-color: #434B5C;\n",
              "      --hover-fill-color: #FFFFFF;\n",
              "      --disabled-bg-color: #3B4455;\n",
              "      --disabled-fill-color: #666;\n",
              "  }\n",
              "\n",
              "  .colab-df-quickchart {\n",
              "    background-color: var(--bg-color);\n",
              "    border: none;\n",
              "    border-radius: 50%;\n",
              "    cursor: pointer;\n",
              "    display: none;\n",
              "    fill: var(--fill-color);\n",
              "    height: 32px;\n",
              "    padding: 0;\n",
              "    width: 32px;\n",
              "  }\n",
              "\n",
              "  .colab-df-quickchart:hover {\n",
              "    background-color: var(--hover-bg-color);\n",
              "    box-shadow: 0 1px 2px rgba(60, 64, 67, 0.3), 0 1px 3px 1px rgba(60, 64, 67, 0.15);\n",
              "    fill: var(--button-hover-fill-color);\n",
              "  }\n",
              "\n",
              "  .colab-df-quickchart-complete:disabled,\n",
              "  .colab-df-quickchart-complete:disabled:hover {\n",
              "    background-color: var(--disabled-bg-color);\n",
              "    fill: var(--disabled-fill-color);\n",
              "    box-shadow: none;\n",
              "  }\n",
              "\n",
              "  .colab-df-spinner {\n",
              "    border: 2px solid var(--fill-color);\n",
              "    border-color: transparent;\n",
              "    border-bottom-color: var(--fill-color);\n",
              "    animation:\n",
              "      spin 1s steps(1) infinite;\n",
              "  }\n",
              "\n",
              "  @keyframes spin {\n",
              "    0% {\n",
              "      border-color: transparent;\n",
              "      border-bottom-color: var(--fill-color);\n",
              "      border-left-color: var(--fill-color);\n",
              "    }\n",
              "    20% {\n",
              "      border-color: transparent;\n",
              "      border-left-color: var(--fill-color);\n",
              "      border-top-color: var(--fill-color);\n",
              "    }\n",
              "    30% {\n",
              "      border-color: transparent;\n",
              "      border-left-color: var(--fill-color);\n",
              "      border-top-color: var(--fill-color);\n",
              "      border-right-color: var(--fill-color);\n",
              "    }\n",
              "    40% {\n",
              "      border-color: transparent;\n",
              "      border-right-color: var(--fill-color);\n",
              "      border-top-color: var(--fill-color);\n",
              "    }\n",
              "    60% {\n",
              "      border-color: transparent;\n",
              "      border-right-color: var(--fill-color);\n",
              "    }\n",
              "    80% {\n",
              "      border-color: transparent;\n",
              "      border-right-color: var(--fill-color);\n",
              "      border-bottom-color: var(--fill-color);\n",
              "    }\n",
              "    90% {\n",
              "      border-color: transparent;\n",
              "      border-bottom-color: var(--fill-color);\n",
              "    }\n",
              "  }\n",
              "</style>\n",
              "\n",
              "  <script>\n",
              "    async function quickchart(key) {\n",
              "      const quickchartButtonEl =\n",
              "        document.querySelector('#' + key + ' button');\n",
              "      quickchartButtonEl.disabled = true;  // To prevent multiple clicks.\n",
              "      quickchartButtonEl.classList.add('colab-df-spinner');\n",
              "      try {\n",
              "        const charts = await google.colab.kernel.invokeFunction(\n",
              "            'suggestCharts', [key], {});\n",
              "      } catch (error) {\n",
              "        console.error('Error during call to suggestCharts:', error);\n",
              "      }\n",
              "      quickchartButtonEl.classList.remove('colab-df-spinner');\n",
              "      quickchartButtonEl.classList.add('colab-df-quickchart-complete');\n",
              "    }\n",
              "    (() => {\n",
              "      let quickchartButtonEl =\n",
              "        document.querySelector('#df-a08d3850-2fbc-4c82-a4e5-4ec16823220a button');\n",
              "      quickchartButtonEl.style.display =\n",
              "        google.colab.kernel.accessAllowed ? 'block' : 'none';\n",
              "    })();\n",
              "  </script>\n",
              "</div>\n",
              "    </div>\n",
              "  </div>\n"
            ]
          },
          "metadata": {},
          "execution_count": 21
        }
      ]
    },
    {
      "cell_type": "code",
      "source": [
        "data_cleaned.columns"
      ],
      "metadata": {
        "colab": {
          "base_uri": "https://localhost:8080/"
        },
        "id": "2tdzpit93Zco",
        "outputId": "b256e56c-6179-4267-a64c-1de191565257"
      },
      "execution_count": null,
      "outputs": [
        {
          "output_type": "execute_result",
          "data": {
            "text/plain": [
              "Index(['iso_code', 'country', 'year', 'CO2_Emissions', 'CO2_Consumption',\n",
              "       'co2_growth_prct', 'co2_growth_abs', 'CO2_Trade',\n",
              "       'CO2_Emissions_Per_Capita', 'consumption_co2_per_capita',\n",
              "       'share_global_co2', 'cumulative_co2', 'share_global_cumulative_co2',\n",
              "       'co2_per_gdp', 'consumption_co2_per_gdp', 'co2_per_unit_energy',\n",
              "       'coal_co2', 'cement_co2', 'flaring_co2', 'gas_co2', 'oil_co2',\n",
              "       'other_industry_co2', 'cement_co2_per_capita', 'coal_co2_per_capita',\n",
              "       'flaring_co2_per_capita', 'gas_co2_per_capita', 'oil_co2_per_capita',\n",
              "       'other_co2_per_capita', 'trade_co2_share', 'share_global_cement_co2',\n",
              "       'share_global_coal_co2', 'share_global_flaring_co2',\n",
              "       'share_global_gas_co2', 'share_global_oil_co2',\n",
              "       'share_global_other_co2', 'cumulative_cement_co2',\n",
              "       'cumulative_coal_co2', 'cumulative_flaring_co2', 'cumulative_gas_co2',\n",
              "       'cumulative_oil_co2', 'cumulative_other_co2',\n",
              "       'share_global_cumulative_cement_co2',\n",
              "       'share_global_cumulative_coal_co2',\n",
              "       'share_global_cumulative_flaring_co2',\n",
              "       'share_global_cumulative_gas_co2', 'share_global_cumulative_oil_co2',\n",
              "       'share_global_cumulative_other_co2', 'total_ghg', 'ghg_per_capita',\n",
              "       'methane', 'methane_per_capita', 'nitrous_oxide',\n",
              "       'nitrous_oxide_per_capita', 'population', 'gdp',\n",
              "       'primary_energy_consumption', 'energy_per_capita', 'energy_per_gdp'],\n",
              "      dtype='object')"
            ]
          },
          "metadata": {},
          "execution_count": 22
        }
      ]
    },
    {
      "cell_type": "code",
      "source": [
        "df.head(5)"
      ],
      "metadata": {
        "colab": {
          "base_uri": "https://localhost:8080/",
          "height": 206
        },
        "id": "tXtHF41d1RvQ",
        "outputId": "bf3fbcf9-609c-4a46-8ff1-28aefd682ca8"
      },
      "execution_count": null,
      "outputs": [
        {
          "output_type": "execute_result",
          "data": {
            "text/plain": [
              "              Country              City  AQI Value AQI Category  CO AQI Value  \\\n",
              "0  Russian Federation        Praskoveya         51     Moderate             1   \n",
              "1              Brazil  Presidente Dutra         41         Good             1   \n",
              "2               Italy   Priolo Gargallo         66     Moderate             1   \n",
              "3              Poland         Przasnysz         34         Good             1   \n",
              "4              France          Punaauia         22         Good             0   \n",
              "\n",
              "  CO AQI Category  Ozone AQI Value Ozone AQI Category  NO2 AQI Value  \\\n",
              "0            Good               36               Good              0   \n",
              "1            Good                5               Good              1   \n",
              "2            Good               39               Good              2   \n",
              "3            Good               34               Good              0   \n",
              "4            Good               22               Good              0   \n",
              "\n",
              "  NO2 AQI Category  PM2.5 AQI Value PM2.5 AQI Category  \n",
              "0             Good               51           Moderate  \n",
              "1             Good               41               Good  \n",
              "2             Good               66           Moderate  \n",
              "3             Good               20               Good  \n",
              "4             Good                6               Good  "
            ],
            "text/html": [
              "\n",
              "  <div id=\"df-daaa4591-a197-447c-8926-77350c80484a\" class=\"colab-df-container\">\n",
              "    <div>\n",
              "<style scoped>\n",
              "    .dataframe tbody tr th:only-of-type {\n",
              "        vertical-align: middle;\n",
              "    }\n",
              "\n",
              "    .dataframe tbody tr th {\n",
              "        vertical-align: top;\n",
              "    }\n",
              "\n",
              "    .dataframe thead th {\n",
              "        text-align: right;\n",
              "    }\n",
              "</style>\n",
              "<table border=\"1\" class=\"dataframe\">\n",
              "  <thead>\n",
              "    <tr style=\"text-align: right;\">\n",
              "      <th></th>\n",
              "      <th>Country</th>\n",
              "      <th>City</th>\n",
              "      <th>AQI Value</th>\n",
              "      <th>AQI Category</th>\n",
              "      <th>CO AQI Value</th>\n",
              "      <th>CO AQI Category</th>\n",
              "      <th>Ozone AQI Value</th>\n",
              "      <th>Ozone AQI Category</th>\n",
              "      <th>NO2 AQI Value</th>\n",
              "      <th>NO2 AQI Category</th>\n",
              "      <th>PM2.5 AQI Value</th>\n",
              "      <th>PM2.5 AQI Category</th>\n",
              "    </tr>\n",
              "  </thead>\n",
              "  <tbody>\n",
              "    <tr>\n",
              "      <th>0</th>\n",
              "      <td>Russian Federation</td>\n",
              "      <td>Praskoveya</td>\n",
              "      <td>51</td>\n",
              "      <td>Moderate</td>\n",
              "      <td>1</td>\n",
              "      <td>Good</td>\n",
              "      <td>36</td>\n",
              "      <td>Good</td>\n",
              "      <td>0</td>\n",
              "      <td>Good</td>\n",
              "      <td>51</td>\n",
              "      <td>Moderate</td>\n",
              "    </tr>\n",
              "    <tr>\n",
              "      <th>1</th>\n",
              "      <td>Brazil</td>\n",
              "      <td>Presidente Dutra</td>\n",
              "      <td>41</td>\n",
              "      <td>Good</td>\n",
              "      <td>1</td>\n",
              "      <td>Good</td>\n",
              "      <td>5</td>\n",
              "      <td>Good</td>\n",
              "      <td>1</td>\n",
              "      <td>Good</td>\n",
              "      <td>41</td>\n",
              "      <td>Good</td>\n",
              "    </tr>\n",
              "    <tr>\n",
              "      <th>2</th>\n",
              "      <td>Italy</td>\n",
              "      <td>Priolo Gargallo</td>\n",
              "      <td>66</td>\n",
              "      <td>Moderate</td>\n",
              "      <td>1</td>\n",
              "      <td>Good</td>\n",
              "      <td>39</td>\n",
              "      <td>Good</td>\n",
              "      <td>2</td>\n",
              "      <td>Good</td>\n",
              "      <td>66</td>\n",
              "      <td>Moderate</td>\n",
              "    </tr>\n",
              "    <tr>\n",
              "      <th>3</th>\n",
              "      <td>Poland</td>\n",
              "      <td>Przasnysz</td>\n",
              "      <td>34</td>\n",
              "      <td>Good</td>\n",
              "      <td>1</td>\n",
              "      <td>Good</td>\n",
              "      <td>34</td>\n",
              "      <td>Good</td>\n",
              "      <td>0</td>\n",
              "      <td>Good</td>\n",
              "      <td>20</td>\n",
              "      <td>Good</td>\n",
              "    </tr>\n",
              "    <tr>\n",
              "      <th>4</th>\n",
              "      <td>France</td>\n",
              "      <td>Punaauia</td>\n",
              "      <td>22</td>\n",
              "      <td>Good</td>\n",
              "      <td>0</td>\n",
              "      <td>Good</td>\n",
              "      <td>22</td>\n",
              "      <td>Good</td>\n",
              "      <td>0</td>\n",
              "      <td>Good</td>\n",
              "      <td>6</td>\n",
              "      <td>Good</td>\n",
              "    </tr>\n",
              "  </tbody>\n",
              "</table>\n",
              "</div>\n",
              "    <div class=\"colab-df-buttons\">\n",
              "\n",
              "  <div class=\"colab-df-container\">\n",
              "    <button class=\"colab-df-convert\" onclick=\"convertToInteractive('df-daaa4591-a197-447c-8926-77350c80484a')\"\n",
              "            title=\"Convert this dataframe to an interactive table.\"\n",
              "            style=\"display:none;\">\n",
              "\n",
              "  <svg xmlns=\"http://www.w3.org/2000/svg\" height=\"24px\" viewBox=\"0 -960 960 960\">\n",
              "    <path d=\"M120-120v-720h720v720H120Zm60-500h600v-160H180v160Zm220 220h160v-160H400v160Zm0 220h160v-160H400v160ZM180-400h160v-160H180v160Zm440 0h160v-160H620v160ZM180-180h160v-160H180v160Zm440 0h160v-160H620v160Z\"/>\n",
              "  </svg>\n",
              "    </button>\n",
              "\n",
              "  <style>\n",
              "    .colab-df-container {\n",
              "      display:flex;\n",
              "      gap: 12px;\n",
              "    }\n",
              "\n",
              "    .colab-df-convert {\n",
              "      background-color: #E8F0FE;\n",
              "      border: none;\n",
              "      border-radius: 50%;\n",
              "      cursor: pointer;\n",
              "      display: none;\n",
              "      fill: #1967D2;\n",
              "      height: 32px;\n",
              "      padding: 0 0 0 0;\n",
              "      width: 32px;\n",
              "    }\n",
              "\n",
              "    .colab-df-convert:hover {\n",
              "      background-color: #E2EBFA;\n",
              "      box-shadow: 0px 1px 2px rgba(60, 64, 67, 0.3), 0px 1px 3px 1px rgba(60, 64, 67, 0.15);\n",
              "      fill: #174EA6;\n",
              "    }\n",
              "\n",
              "    .colab-df-buttons div {\n",
              "      margin-bottom: 4px;\n",
              "    }\n",
              "\n",
              "    [theme=dark] .colab-df-convert {\n",
              "      background-color: #3B4455;\n",
              "      fill: #D2E3FC;\n",
              "    }\n",
              "\n",
              "    [theme=dark] .colab-df-convert:hover {\n",
              "      background-color: #434B5C;\n",
              "      box-shadow: 0px 1px 3px 1px rgba(0, 0, 0, 0.15);\n",
              "      filter: drop-shadow(0px 1px 2px rgba(0, 0, 0, 0.3));\n",
              "      fill: #FFFFFF;\n",
              "    }\n",
              "  </style>\n",
              "\n",
              "    <script>\n",
              "      const buttonEl =\n",
              "        document.querySelector('#df-daaa4591-a197-447c-8926-77350c80484a button.colab-df-convert');\n",
              "      buttonEl.style.display =\n",
              "        google.colab.kernel.accessAllowed ? 'block' : 'none';\n",
              "\n",
              "      async function convertToInteractive(key) {\n",
              "        const element = document.querySelector('#df-daaa4591-a197-447c-8926-77350c80484a');\n",
              "        const dataTable =\n",
              "          await google.colab.kernel.invokeFunction('convertToInteractive',\n",
              "                                                    [key], {});\n",
              "        if (!dataTable) return;\n",
              "\n",
              "        const docLinkHtml = 'Like what you see? Visit the ' +\n",
              "          '<a target=\"_blank\" href=https://colab.research.google.com/notebooks/data_table.ipynb>data table notebook</a>'\n",
              "          + ' to learn more about interactive tables.';\n",
              "        element.innerHTML = '';\n",
              "        dataTable['output_type'] = 'display_data';\n",
              "        await google.colab.output.renderOutput(dataTable, element);\n",
              "        const docLink = document.createElement('div');\n",
              "        docLink.innerHTML = docLinkHtml;\n",
              "        element.appendChild(docLink);\n",
              "      }\n",
              "    </script>\n",
              "  </div>\n",
              "\n",
              "\n",
              "<div id=\"df-d75a6571-301e-4c51-9783-e78e356da8b1\">\n",
              "  <button class=\"colab-df-quickchart\" onclick=\"quickchart('df-d75a6571-301e-4c51-9783-e78e356da8b1')\"\n",
              "            title=\"Suggest charts\"\n",
              "            style=\"display:none;\">\n",
              "\n",
              "<svg xmlns=\"http://www.w3.org/2000/svg\" height=\"24px\"viewBox=\"0 0 24 24\"\n",
              "     width=\"24px\">\n",
              "    <g>\n",
              "        <path d=\"M19 3H5c-1.1 0-2 .9-2 2v14c0 1.1.9 2 2 2h14c1.1 0 2-.9 2-2V5c0-1.1-.9-2-2-2zM9 17H7v-7h2v7zm4 0h-2V7h2v10zm4 0h-2v-4h2v4z\"/>\n",
              "    </g>\n",
              "</svg>\n",
              "  </button>\n",
              "\n",
              "<style>\n",
              "  .colab-df-quickchart {\n",
              "      --bg-color: #E8F0FE;\n",
              "      --fill-color: #1967D2;\n",
              "      --hover-bg-color: #E2EBFA;\n",
              "      --hover-fill-color: #174EA6;\n",
              "      --disabled-fill-color: #AAA;\n",
              "      --disabled-bg-color: #DDD;\n",
              "  }\n",
              "\n",
              "  [theme=dark] .colab-df-quickchart {\n",
              "      --bg-color: #3B4455;\n",
              "      --fill-color: #D2E3FC;\n",
              "      --hover-bg-color: #434B5C;\n",
              "      --hover-fill-color: #FFFFFF;\n",
              "      --disabled-bg-color: #3B4455;\n",
              "      --disabled-fill-color: #666;\n",
              "  }\n",
              "\n",
              "  .colab-df-quickchart {\n",
              "    background-color: var(--bg-color);\n",
              "    border: none;\n",
              "    border-radius: 50%;\n",
              "    cursor: pointer;\n",
              "    display: none;\n",
              "    fill: var(--fill-color);\n",
              "    height: 32px;\n",
              "    padding: 0;\n",
              "    width: 32px;\n",
              "  }\n",
              "\n",
              "  .colab-df-quickchart:hover {\n",
              "    background-color: var(--hover-bg-color);\n",
              "    box-shadow: 0 1px 2px rgba(60, 64, 67, 0.3), 0 1px 3px 1px rgba(60, 64, 67, 0.15);\n",
              "    fill: var(--button-hover-fill-color);\n",
              "  }\n",
              "\n",
              "  .colab-df-quickchart-complete:disabled,\n",
              "  .colab-df-quickchart-complete:disabled:hover {\n",
              "    background-color: var(--disabled-bg-color);\n",
              "    fill: var(--disabled-fill-color);\n",
              "    box-shadow: none;\n",
              "  }\n",
              "\n",
              "  .colab-df-spinner {\n",
              "    border: 2px solid var(--fill-color);\n",
              "    border-color: transparent;\n",
              "    border-bottom-color: var(--fill-color);\n",
              "    animation:\n",
              "      spin 1s steps(1) infinite;\n",
              "  }\n",
              "\n",
              "  @keyframes spin {\n",
              "    0% {\n",
              "      border-color: transparent;\n",
              "      border-bottom-color: var(--fill-color);\n",
              "      border-left-color: var(--fill-color);\n",
              "    }\n",
              "    20% {\n",
              "      border-color: transparent;\n",
              "      border-left-color: var(--fill-color);\n",
              "      border-top-color: var(--fill-color);\n",
              "    }\n",
              "    30% {\n",
              "      border-color: transparent;\n",
              "      border-left-color: var(--fill-color);\n",
              "      border-top-color: var(--fill-color);\n",
              "      border-right-color: var(--fill-color);\n",
              "    }\n",
              "    40% {\n",
              "      border-color: transparent;\n",
              "      border-right-color: var(--fill-color);\n",
              "      border-top-color: var(--fill-color);\n",
              "    }\n",
              "    60% {\n",
              "      border-color: transparent;\n",
              "      border-right-color: var(--fill-color);\n",
              "    }\n",
              "    80% {\n",
              "      border-color: transparent;\n",
              "      border-right-color: var(--fill-color);\n",
              "      border-bottom-color: var(--fill-color);\n",
              "    }\n",
              "    90% {\n",
              "      border-color: transparent;\n",
              "      border-bottom-color: var(--fill-color);\n",
              "    }\n",
              "  }\n",
              "</style>\n",
              "\n",
              "  <script>\n",
              "    async function quickchart(key) {\n",
              "      const quickchartButtonEl =\n",
              "        document.querySelector('#' + key + ' button');\n",
              "      quickchartButtonEl.disabled = true;  // To prevent multiple clicks.\n",
              "      quickchartButtonEl.classList.add('colab-df-spinner');\n",
              "      try {\n",
              "        const charts = await google.colab.kernel.invokeFunction(\n",
              "            'suggestCharts', [key], {});\n",
              "      } catch (error) {\n",
              "        console.error('Error during call to suggestCharts:', error);\n",
              "      }\n",
              "      quickchartButtonEl.classList.remove('colab-df-spinner');\n",
              "      quickchartButtonEl.classList.add('colab-df-quickchart-complete');\n",
              "    }\n",
              "    (() => {\n",
              "      let quickchartButtonEl =\n",
              "        document.querySelector('#df-d75a6571-301e-4c51-9783-e78e356da8b1 button');\n",
              "      quickchartButtonEl.style.display =\n",
              "        google.colab.kernel.accessAllowed ? 'block' : 'none';\n",
              "    })();\n",
              "  </script>\n",
              "</div>\n",
              "    </div>\n",
              "  </div>\n"
            ]
          },
          "metadata": {},
          "execution_count": 23
        }
      ]
    },
    {
      "cell_type": "code",
      "source": [
        "df.columns"
      ],
      "metadata": {
        "colab": {
          "base_uri": "https://localhost:8080/"
        },
        "id": "wTKM3_5n3hr0",
        "outputId": "eec0aeaa-0db5-49c3-b006-d0d73575afc3"
      },
      "execution_count": null,
      "outputs": [
        {
          "output_type": "execute_result",
          "data": {
            "text/plain": [
              "Index(['Country', 'City', 'AQI Value', 'AQI Category', 'CO AQI Value',\n",
              "       'CO AQI Category', 'Ozone AQI Value', 'Ozone AQI Category',\n",
              "       'NO2 AQI Value', 'NO2 AQI Category', 'PM2.5 AQI Value',\n",
              "       'PM2.5 AQI Category'],\n",
              "      dtype='object')"
            ]
          },
          "metadata": {},
          "execution_count": 24
        }
      ]
    },
    {
      "cell_type": "markdown",
      "source": [
        "D3: DATA ANALYSIS\n",
        "\n",
        "Q1:What is the global distribution of CO2 emissions, and can we visualize it on a world map?"
      ],
      "metadata": {
        "id": "Wl2rCnn21S2c"
      }
    },
    {
      "cell_type": "code",
      "source": [
        "# Import necessary libraries\n",
        "import pandas as pd\n",
        "import plotly.express as px\n",
        "\n",
        "\n",
        "# Grouping by country and calculated total CO2 emissions in Dataset 1\n",
        "total_co2_by_country = data_cleaned.groupby('iso_code')['CO2_Emissions'].sum().reset_index()\n",
        "\n",
        "# Merging datasets to get country names\n",
        "\n",
        "merged_data = pd.merge(total_co2_by_country, df, left_on='iso_code', right_on='Country', how='left')\n",
        "\n",
        "# Creating a world map\n",
        "fig = px.choropleth(merged_data,\n",
        "                    locations='iso_code',\n",
        "                    color='CO2_Emissions',\n",
        "                    hover_name='Country',\n",
        "                    title='Global CO2 Emissions by Country',\n",
        "                    color_continuous_scale='Viridis')\n",
        "\n",
        "# Showing the map\n",
        "fig.show()\n"
      ],
      "metadata": {
        "colab": {
          "base_uri": "https://localhost:8080/",
          "height": 542
        },
        "id": "tviKIzAvy-qf",
        "outputId": "5d24786b-28f5-475a-f29e-fdc3444e2b41"
      },
      "execution_count": null,
      "outputs": [
        {
          "output_type": "display_data",
          "data": {
            "text/html": [
              "<html>\n",
              "<head><meta charset=\"utf-8\" /></head>\n",
              "<body>\n",
              "    <div>            <script src=\"https://cdnjs.cloudflare.com/ajax/libs/mathjax/2.7.5/MathJax.js?config=TeX-AMS-MML_SVG\"></script><script type=\"text/javascript\">if (window.MathJax && window.MathJax.Hub && window.MathJax.Hub.Config) {window.MathJax.Hub.Config({SVG: {font: \"STIX-Web\"}});}</script>                <script type=\"text/javascript\">window.PlotlyConfig = {MathJaxConfig: 'local'};</script>\n",
              "        <script charset=\"utf-8\" src=\"https://cdn.plot.ly/plotly-2.24.1.min.js\"></script>                <div id=\"fa4bd6d0-2566-4c0b-b654-255c2141d719\" class=\"plotly-graph-div\" style=\"height:525px; width:100%;\"></div>            <script type=\"text/javascript\">                                    window.PLOTLYENV=window.PLOTLYENV || {};                                    if (document.getElementById(\"fa4bd6d0-2566-4c0b-b654-255c2141d719\")) {                    Plotly.newPlot(                        \"fa4bd6d0-2566-4c0b-b654-255c2141d719\",                        [{\"coloraxis\":\"coloraxis\",\"geo\":\"geo\",\"hovertemplate\":\"\\u003cb\\u003e%{hovertext}\\u003c\\u002fb\\u003e\\u003cbr\\u003e\\u003cbr\\u003eiso_code=%{location}\\u003cbr\\u003eCO2_Emissions=%{z}\\u003cextra\\u003e\\u003c\\u002fextra\\u003e\",\"hovertext\":[null,null,null,null,null,null,null,null,null,null,null,null,null,null,null,null,null,null,null,null,null,null,null,null,null,null,null,null,null,null,null,null,null,null,null,null,null,null,null,null,null,null,null,null,null,null,null,null,null,null,null,null,null,null,null,null,null,null,null,null,null,null,null,null,null,null,null,null,null,null,null,null,null,null,null,null,null,null,null,null,null,null,null,null,null,null,null,null,null,null,null,null,null,null,null,null,null,null,null,null,null,null,null,null,null,null,null,null,null,null,null,null,null,null,null,null,null,null,null,null,null,null,null,null,null,null,null,null,null,null,null,null,null,null,null,null,null,null,null,null,null,null,null,null,null,null,null,null,null,null,null,null,null,null,null,null,null,null,null,null,null,null,null,null,null,null,null,null,null,null,null,null,null,null,null,null,null,null,null,null,null,null,null,null,null,null,null,null,null,null,null,null,null,null,null,null,null,null,null,null,null,null,null,null,null,null,null,null,null,\"Unknown\",\"Unknown\",\"Unknown\",\"Unknown\",\"Unknown\",\"Unknown\",\"Unknown\",\"Unknown\",\"Unknown\",\"Unknown\",\"Unknown\",\"Unknown\",\"Unknown\",\"Unknown\",\"Unknown\",\"Unknown\",\"Unknown\",\"Unknown\",\"Unknown\",\"Unknown\",\"Unknown\",\"Unknown\",\"Unknown\",\"Unknown\",\"Unknown\",\"Unknown\",\"Unknown\",\"Unknown\",\"Unknown\",\"Unknown\",\"Unknown\",\"Unknown\",\"Unknown\",\"Unknown\",\"Unknown\",\"Unknown\",\"Unknown\",\"Unknown\",\"Unknown\",\"Unknown\",\"Unknown\",\"Unknown\",\"Unknown\",\"Unknown\",\"Unknown\",\"Unknown\",\"Unknown\",\"Unknown\",\"Unknown\",\"Unknown\",\"Unknown\",\"Unknown\",\"Unknown\",\"Unknown\",\"Unknown\",\"Unknown\",\"Unknown\",\"Unknown\",\"Unknown\",\"Unknown\",\"Unknown\",\"Unknown\",\"Unknown\",\"Unknown\",\"Unknown\",\"Unknown\",\"Unknown\",\"Unknown\",\"Unknown\",\"Unknown\",\"Unknown\",\"Unknown\",\"Unknown\",\"Unknown\",\"Unknown\",\"Unknown\",\"Unknown\",\"Unknown\",\"Unknown\",\"Unknown\",\"Unknown\",\"Unknown\",\"Unknown\",\"Unknown\",\"Unknown\",\"Unknown\",\"Unknown\",\"Unknown\",\"Unknown\",\"Unknown\",\"Unknown\",\"Unknown\",\"Unknown\",\"Unknown\",\"Unknown\",\"Unknown\",\"Unknown\",\"Unknown\",\"Unknown\",\"Unknown\",\"Unknown\",\"Unknown\",\"Unknown\",\"Unknown\",\"Unknown\",\"Unknown\",\"Unknown\",\"Unknown\",\"Unknown\",\"Unknown\",\"Unknown\",\"Unknown\",\"Unknown\",\"Unknown\",\"Unknown\",\"Unknown\",\"Unknown\",\"Unknown\",\"Unknown\",\"Unknown\",\"Unknown\",\"Unknown\",\"Unknown\",\"Unknown\",\"Unknown\",\"Unknown\",\"Unknown\",\"Unknown\",\"Unknown\",\"Unknown\",\"Unknown\",\"Unknown\",\"Unknown\",\"Unknown\",\"Unknown\",\"Unknown\",\"Unknown\",\"Unknown\",\"Unknown\",\"Unknown\",\"Unknown\",\"Unknown\",\"Unknown\",\"Unknown\",\"Unknown\",\"Unknown\",\"Unknown\",\"Unknown\",\"Unknown\",\"Unknown\",\"Unknown\",\"Unknown\",\"Unknown\",\"Unknown\",\"Unknown\",\"Unknown\",\"Unknown\",\"Unknown\",\"Unknown\",\"Unknown\",\"Unknown\",\"Unknown\",\"Unknown\",\"Unknown\",\"Unknown\",\"Unknown\",\"Unknown\",\"Unknown\",\"Unknown\",\"Unknown\",\"Unknown\",\"Unknown\",\"Unknown\",\"Unknown\",\"Unknown\",\"Unknown\",\"Unknown\",\"Unknown\",\"Unknown\",\"Unknown\",\"Unknown\",\"Unknown\",\"Unknown\",\"Unknown\",\"Unknown\",\"Unknown\",\"Unknown\",\"Unknown\",\"Unknown\",\"Unknown\",\"Unknown\",\"Unknown\",\"Unknown\",\"Unknown\",\"Unknown\",\"Unknown\",\"Unknown\",\"Unknown\",\"Unknown\",\"Unknown\",\"Unknown\",\"Unknown\",\"Unknown\",\"Unknown\",\"Unknown\",\"Unknown\",\"Unknown\",\"Unknown\",\"Unknown\",\"Unknown\",\"Unknown\",\"Unknown\",\"Unknown\",\"Unknown\",\"Unknown\",\"Unknown\",\"Unknown\",\"Unknown\",\"Unknown\",\"Unknown\",\"Unknown\",\"Unknown\",\"Unknown\",\"Unknown\",\"Unknown\",\"Unknown\",\"Unknown\",\"Unknown\",\"Unknown\",\"Unknown\",\"Unknown\",\"Unknown\",\"Unknown\",\"Unknown\",\"Unknown\",\"Unknown\",\"Unknown\",\"Unknown\",\"Unknown\",\"Unknown\",\"Unknown\",\"Unknown\",\"Unknown\",\"Unknown\",\"Unknown\",\"Unknown\",\"Unknown\",\"Unknown\",\"Unknown\",\"Unknown\",\"Unknown\",\"Unknown\",\"Unknown\",\"Unknown\",\"Unknown\",\"Unknown\",\"Unknown\",\"Unknown\",\"Unknown\",\"Unknown\",\"Unknown\",\"Unknown\",\"Unknown\",\"Unknown\",\"Unknown\",\"Unknown\",\"Unknown\",\"Unknown\",\"Unknown\",\"Unknown\",\"Unknown\",\"Unknown\",\"Unknown\",\"Unknown\",\"Unknown\",\"Unknown\",\"Unknown\",\"Unknown\",\"Unknown\",\"Unknown\",\"Unknown\",\"Unknown\",\"Unknown\",\"Unknown\",\"Unknown\",\"Unknown\",\"Unknown\",\"Unknown\",\"Unknown\",\"Unknown\",\"Unknown\",\"Unknown\",\"Unknown\",\"Unknown\",\"Unknown\",\"Unknown\",\"Unknown\",\"Unknown\",\"Unknown\",\"Unknown\",\"Unknown\",\"Unknown\",\"Unknown\",\"Unknown\",\"Unknown\",\"Unknown\",\"Unknown\",\"Unknown\",\"Unknown\",\"Unknown\",\"Unknown\",\"Unknown\",\"Unknown\",\"Unknown\",\"Unknown\",\"Unknown\",\"Unknown\",\"Unknown\",\"Unknown\",\"Unknown\",\"Unknown\",\"Unknown\",\"Unknown\",\"Unknown\",\"Unknown\",\"Unknown\",\"Unknown\",\"Unknown\",\"Unknown\",\"Unknown\",\"Unknown\",\"Unknown\",\"Unknown\",\"Unknown\",\"Unknown\",\"Unknown\",\"Unknown\",\"Unknown\",\"Unknown\",\"Unknown\",\"Unknown\",\"Unknown\",\"Unknown\",\"Unknown\",\"Unknown\",\"Unknown\",\"Unknown\",\"Unknown\",\"Unknown\",\"Unknown\",\"Unknown\",\"Unknown\",\"Unknown\",\"Unknown\",\"Unknown\",\"Unknown\",\"Unknown\",\"Unknown\",\"Unknown\",\"Unknown\",\"Unknown\",\"Unknown\",\"Unknown\",\"Unknown\",\"Unknown\",\"Unknown\",\"Unknown\",\"Unknown\",\"Unknown\",\"Unknown\",\"Unknown\",\"Unknown\",\"Unknown\",\"Unknown\",\"Unknown\",\"Unknown\",\"Unknown\",\"Unknown\",\"Unknown\",\"Unknown\",\"Unknown\",\"Unknown\",\"Unknown\",\"Unknown\",\"Unknown\",\"Unknown\",\"Unknown\",\"Unknown\",\"Unknown\",\"Unknown\",\"Unknown\",\"Unknown\",\"Unknown\",\"Unknown\",\"Unknown\",\"Unknown\",\"Unknown\",\"Unknown\",\"Unknown\",\"Unknown\",\"Unknown\",\"Unknown\",\"Unknown\",\"Unknown\",\"Unknown\",\"Unknown\",\"Unknown\",\"Unknown\",\"Unknown\",\"Unknown\",\"Unknown\",\"Unknown\",\"Unknown\",\"Unknown\",\"Unknown\",\"Unknown\",\"Unknown\",\"Unknown\",\"Unknown\",\"Unknown\",\"Unknown\",\"Unknown\",\"Unknown\",\"Unknown\",\"Unknown\",\"Unknown\",\"Unknown\",null,null,null,null,null,null,null,null,null,null],\"locations\":[\"ABW\",\"AFG\",\"AGO\",\"AIA\",\"ALB\",\"AND\",\"ARE\",\"ARG\",\"ARM\",\"ATA\",\"ATG\",\"AUS\",\"AUT\",\"AZE\",\"BDI\",\"BEL\",\"BEN\",\"BES\",\"BFA\",\"BGD\",\"BGR\",\"BHR\",\"BHS\",\"BIH\",\"BLR\",\"BLZ\",\"BMU\",\"BOL\",\"BRA\",\"BRB\",\"BRN\",\"BTN\",\"BWA\",\"CAF\",\"CAN\",\"CHE\",\"CHL\",\"CHN\",\"CIV\",\"CMR\",\"COD\",\"COG\",\"COK\",\"COL\",\"COM\",\"CPV\",\"CRI\",\"CUB\",\"CUW\",\"CXR\",\"CYP\",\"CZE\",\"DEU\",\"DJI\",\"DMA\",\"DNK\",\"DOM\",\"DZA\",\"ECU\",\"EGY\",\"ERI\",\"ESP\",\"EST\",\"ETH\",\"FIN\",\"FJI\",\"FRA\",\"FRO\",\"GAB\",\"GBR\",\"GEO\",\"GHA\",\"GIN\",\"GLP\",\"GMB\",\"GNB\",\"GNQ\",\"GRC\",\"GRD\",\"GRL\",\"GTM\",\"GUF\",\"GUY\",\"HKG\",\"HND\",\"HRV\",\"HTI\",\"HUN\",\"IDN\",\"IND\",\"IRL\",\"IRN\",\"IRQ\",\"ISL\",\"ISR\",\"ITA\",\"JAM\",\"JOR\",\"JPN\",\"KAZ\",\"KEN\",\"KGZ\",\"KHM\",\"KIR\",\"KNA\",\"KOR\",\"KWT\",\"LAO\",\"LBN\",\"LBR\",\"LBY\",\"LCA\",\"LIE\",\"LKA\",\"LSO\",\"LTU\",\"LUX\",\"LVA\",\"MAR\",\"MDA\",\"MDG\",\"MDV\",\"MEX\",\"MHL\",\"MKD\",\"MLI\",\"MLT\",\"MMR\",\"MNE\",\"MNG\",\"MOZ\",\"MRT\",\"MSR\",\"MTQ\",\"MUS\",\"MWI\",\"MYS\",\"MYT\",\"NAM\",\"NCL\",\"NER\",\"NGA\",\"NIC\",\"NIU\",\"NLD\",\"NOR\",\"NPL\",\"NRU\",\"NZL\",\"OMN\",\"OWID_KOS\",\"OWID_WRL\",\"PAK\",\"PAN\",\"PER\",\"PHL\",\"PLW\",\"PNG\",\"POL\",\"PRI\",\"PRK\",\"PRT\",\"PRY\",\"PSE\",\"PYF\",\"QAT\",\"ROU\",\"RUS\",\"RWA\",\"SAU\",\"SDN\",\"SEN\",\"SGP\",\"SHN\",\"SLB\",\"SLE\",\"SLV\",\"SOM\",\"SPM\",\"SRB\",\"SSD\",\"STP\",\"SUR\",\"SVK\",\"SVN\",\"SWE\",\"SWZ\",\"SXM\",\"SYC\",\"SYR\",\"TCA\",\"TCD\",\"TGO\",\"THA\",\"TJK\",\"TKM\",\"TLS\",\"TON\",\"TTO\",\"TUN\",\"TUR\",\"TUV\",\"TWN\",\"TZA\",\"UGA\",\"UKR\",\"URY\",\"USA\",\"UZB\",\"Unknown\",\"Unknown\",\"Unknown\",\"Unknown\",\"Unknown\",\"Unknown\",\"Unknown\",\"Unknown\",\"Unknown\",\"Unknown\",\"Unknown\",\"Unknown\",\"Unknown\",\"Unknown\",\"Unknown\",\"Unknown\",\"Unknown\",\"Unknown\",\"Unknown\",\"Unknown\",\"Unknown\",\"Unknown\",\"Unknown\",\"Unknown\",\"Unknown\",\"Unknown\",\"Unknown\",\"Unknown\",\"Unknown\",\"Unknown\",\"Unknown\",\"Unknown\",\"Unknown\",\"Unknown\",\"Unknown\",\"Unknown\",\"Unknown\",\"Unknown\",\"Unknown\",\"Unknown\",\"Unknown\",\"Unknown\",\"Unknown\",\"Unknown\",\"Unknown\",\"Unknown\",\"Unknown\",\"Unknown\",\"Unknown\",\"Unknown\",\"Unknown\",\"Unknown\",\"Unknown\",\"Unknown\",\"Unknown\",\"Unknown\",\"Unknown\",\"Unknown\",\"Unknown\",\"Unknown\",\"Unknown\",\"Unknown\",\"Unknown\",\"Unknown\",\"Unknown\",\"Unknown\",\"Unknown\",\"Unknown\",\"Unknown\",\"Unknown\",\"Unknown\",\"Unknown\",\"Unknown\",\"Unknown\",\"Unknown\",\"Unknown\",\"Unknown\",\"Unknown\",\"Unknown\",\"Unknown\",\"Unknown\",\"Unknown\",\"Unknown\",\"Unknown\",\"Unknown\",\"Unknown\",\"Unknown\",\"Unknown\",\"Unknown\",\"Unknown\",\"Unknown\",\"Unknown\",\"Unknown\",\"Unknown\",\"Unknown\",\"Unknown\",\"Unknown\",\"Unknown\",\"Unknown\",\"Unknown\",\"Unknown\",\"Unknown\",\"Unknown\",\"Unknown\",\"Unknown\",\"Unknown\",\"Unknown\",\"Unknown\",\"Unknown\",\"Unknown\",\"Unknown\",\"Unknown\",\"Unknown\",\"Unknown\",\"Unknown\",\"Unknown\",\"Unknown\",\"Unknown\",\"Unknown\",\"Unknown\",\"Unknown\",\"Unknown\",\"Unknown\",\"Unknown\",\"Unknown\",\"Unknown\",\"Unknown\",\"Unknown\",\"Unknown\",\"Unknown\",\"Unknown\",\"Unknown\",\"Unknown\",\"Unknown\",\"Unknown\",\"Unknown\",\"Unknown\",\"Unknown\",\"Unknown\",\"Unknown\",\"Unknown\",\"Unknown\",\"Unknown\",\"Unknown\",\"Unknown\",\"Unknown\",\"Unknown\",\"Unknown\",\"Unknown\",\"Unknown\",\"Unknown\",\"Unknown\",\"Unknown\",\"Unknown\",\"Unknown\",\"Unknown\",\"Unknown\",\"Unknown\",\"Unknown\",\"Unknown\",\"Unknown\",\"Unknown\",\"Unknown\",\"Unknown\",\"Unknown\",\"Unknown\",\"Unknown\",\"Unknown\",\"Unknown\",\"Unknown\",\"Unknown\",\"Unknown\",\"Unknown\",\"Unknown\",\"Unknown\",\"Unknown\",\"Unknown\",\"Unknown\",\"Unknown\",\"Unknown\",\"Unknown\",\"Unknown\",\"Unknown\",\"Unknown\",\"Unknown\",\"Unknown\",\"Unknown\",\"Unknown\",\"Unknown\",\"Unknown\",\"Unknown\",\"Unknown\",\"Unknown\",\"Unknown\",\"Unknown\",\"Unknown\",\"Unknown\",\"Unknown\",\"Unknown\",\"Unknown\",\"Unknown\",\"Unknown\",\"Unknown\",\"Unknown\",\"Unknown\",\"Unknown\",\"Unknown\",\"Unknown\",\"Unknown\",\"Unknown\",\"Unknown\",\"Unknown\",\"Unknown\",\"Unknown\",\"Unknown\",\"Unknown\",\"Unknown\",\"Unknown\",\"Unknown\",\"Unknown\",\"Unknown\",\"Unknown\",\"Unknown\",\"Unknown\",\"Unknown\",\"Unknown\",\"Unknown\",\"Unknown\",\"Unknown\",\"Unknown\",\"Unknown\",\"Unknown\",\"Unknown\",\"Unknown\",\"Unknown\",\"Unknown\",\"Unknown\",\"Unknown\",\"Unknown\",\"Unknown\",\"Unknown\",\"Unknown\",\"Unknown\",\"Unknown\",\"Unknown\",\"Unknown\",\"Unknown\",\"Unknown\",\"Unknown\",\"Unknown\",\"Unknown\",\"Unknown\",\"Unknown\",\"Unknown\",\"Unknown\",\"Unknown\",\"Unknown\",\"Unknown\",\"Unknown\",\"Unknown\",\"Unknown\",\"Unknown\",\"Unknown\",\"Unknown\",\"Unknown\",\"Unknown\",\"Unknown\",\"Unknown\",\"Unknown\",\"Unknown\",\"Unknown\",\"Unknown\",\"Unknown\",\"Unknown\",\"Unknown\",\"Unknown\",\"Unknown\",\"Unknown\",\"Unknown\",\"Unknown\",\"Unknown\",\"Unknown\",\"Unknown\",\"Unknown\",\"Unknown\",\"Unknown\",\"Unknown\",\"Unknown\",\"Unknown\",\"Unknown\",\"Unknown\",\"Unknown\",\"Unknown\",\"Unknown\",\"Unknown\",\"Unknown\",\"Unknown\",\"Unknown\",\"Unknown\",\"Unknown\",\"Unknown\",\"Unknown\",\"Unknown\",\"Unknown\",\"Unknown\",\"Unknown\",\"Unknown\",\"Unknown\",\"Unknown\",\"Unknown\",\"Unknown\",\"Unknown\",\"Unknown\",\"Unknown\",\"Unknown\",\"Unknown\",\"Unknown\",\"Unknown\",\"Unknown\",\"Unknown\",\"Unknown\",\"Unknown\",\"Unknown\",\"Unknown\",\"Unknown\",\"Unknown\",\"Unknown\",\"Unknown\",\"Unknown\",\"Unknown\",\"Unknown\",\"Unknown\",\"Unknown\",\"Unknown\",\"Unknown\",\"Unknown\",\"Unknown\",\"Unknown\",\"Unknown\",\"Unknown\",\"Unknown\",\"Unknown\",\"Unknown\",\"Unknown\",\"Unknown\",\"Unknown\",\"Unknown\",\"Unknown\",\"Unknown\",\"Unknown\",\"Unknown\",\"Unknown\",\"Unknown\",\"Unknown\",\"Unknown\",\"Unknown\",\"Unknown\",\"Unknown\",\"Unknown\",\"Unknown\",\"Unknown\",\"Unknown\",\"Unknown\",\"Unknown\",\"Unknown\",\"Unknown\",\"Unknown\",\"Unknown\",\"Unknown\",\"Unknown\",\"Unknown\",\"Unknown\",\"Unknown\",\"Unknown\",\"Unknown\",\"Unknown\",\"Unknown\",\"Unknown\",\"Unknown\",\"Unknown\",\"Unknown\",\"Unknown\",\"Unknown\",\"Unknown\",\"Unknown\",\"Unknown\",\"Unknown\",\"Unknown\",\"Unknown\",\"Unknown\",\"Unknown\",\"Unknown\",\"Unknown\",\"Unknown\",\"Unknown\",\"Unknown\",\"Unknown\",\"Unknown\",\"Unknown\",\"Unknown\",\"Unknown\",\"Unknown\",\"Unknown\",\"Unknown\",\"Unknown\",\"Unknown\",\"Unknown\",\"Unknown\",\"Unknown\",\"Unknown\",\"Unknown\",\"Unknown\",\"Unknown\",\"Unknown\",\"Unknown\",\"Unknown\",\"Unknown\",\"Unknown\",\"Unknown\",\"Unknown\",\"Unknown\",\"Unknown\",\"Unknown\",\"Unknown\",\"Unknown\",\"Unknown\",\"Unknown\",\"VCT\",\"VEN\",\"VGB\",\"VNM\",\"VUT\",\"WSM\",\"YEM\",\"ZAF\",\"ZMB\",\"ZWE\"],\"name\":\"\",\"z\":[80.775,192.851,682.264,3.421,285.504,15.072000000000001,4695.478,8431.212,490.223,63.298,21.528,18635.749,5558.932,2610.629,13.058,12674.289,111.668,35.21,64.32600000000001,1562.305,3831.211,926.306,169.52100000000002,1008.208,5014.707,19.062,29.212,530.155,16238.509,108.306,360.368,19.191,150.401,10.547,33576.764,3022.788,2903.058,178465.97084000008,333.932,215.085,193.191,78.479,2.198,3399.1,5.301,13.291,255.063,1614.249,564.147,181.042,293.026,11917.743,92635.618,18.908,4.8149999999999995,4082.628,747.72,4587.133,1197.7160000000001,6314.501,255.889,14853.332,1737.065,278.002,3191.078,49.43,38757.822,30.636,258.408,78161.148,766.265,371.321,86.233,83.819,13.967,10.094,179.477,4141.6720000000005,8.264,33.054,444.933,27.491,100.593,1649.434,256.321,1131.976,76.219,5025.362,14399.956,54469.921,2520.341,18933.872,4661.386,166.394,2379.696,24739.054,452.853,701.302,65625.165,14015.105,467.027,968.641,158.245,2.084,6.341,18355.137,2887.23,178.02,738.294,52.522999999999996,2136.288,14.365,6.109,500.28,63.981,1664.715,753.684,1057.149,1737.601,1486.098,145.342,24.913,20075.006,13.133000000000001,689.524,63.32,104.588,611.492,157.068,787.438,177.094,75.634,1.619,88.273,115.76,50.699,6076.82,6.518,80.895,157.007,46.523,3914.993,177.396,0.292,11739.968,2646.964,165.881,4.867,1886.566,1251.112,105.637,607785.3372800003,5162.293,309.25,1941.857,3404.845,10.567,169.498,27863.879,485.909,5068.897,2614.597,177.912,59.438,28.78,2094.573,8493.291,115451.002,28.68,15946.088,446.154,243.3,2157.027,58.664,10.438,36.098,231.867,32.892,3.683,2787.878,38.352,3.365,115.205,3869.879,904.53,5007.385,50.407,72.566,13.377,1867.936,3.932,26.057,66.131,7378.87,596.498,2541.64,6.542,4.386,1569.557,959.795,10839.787,0.27599999999999997,9046.737000000001,243.845,105.596,30666.018,371.229,409177.2205600001,6417.215,2697343.0610400005,2697343.0610400005,2697343.0610400005,2697343.0610400005,2697343.0610400005,2697343.0610400005,2697343.0610400005,2697343.0610400005,2697343.0610400005,2697343.0610400005,2697343.0610400005,2697343.0610400005,2697343.0610400005,2697343.0610400005,2697343.0610400005,2697343.0610400005,2697343.0610400005,2697343.0610400005,2697343.0610400005,2697343.0610400005,2697343.0610400005,2697343.0610400005,2697343.0610400005,2697343.0610400005,2697343.0610400005,2697343.0610400005,2697343.0610400005,2697343.0610400005,2697343.0610400005,2697343.0610400005,2697343.0610400005,2697343.0610400005,2697343.0610400005,2697343.0610400005,2697343.0610400005,2697343.0610400005,2697343.0610400005,2697343.0610400005,2697343.0610400005,2697343.0610400005,2697343.0610400005,2697343.0610400005,2697343.0610400005,2697343.0610400005,2697343.0610400005,2697343.0610400005,2697343.0610400005,2697343.0610400005,2697343.0610400005,2697343.0610400005,2697343.0610400005,2697343.0610400005,2697343.0610400005,2697343.0610400005,2697343.0610400005,2697343.0610400005,2697343.0610400005,2697343.0610400005,2697343.0610400005,2697343.0610400005,2697343.0610400005,2697343.0610400005,2697343.0610400005,2697343.0610400005,2697343.0610400005,2697343.0610400005,2697343.0610400005,2697343.0610400005,2697343.0610400005,2697343.0610400005,2697343.0610400005,2697343.0610400005,2697343.0610400005,2697343.0610400005,2697343.0610400005,2697343.0610400005,2697343.0610400005,2697343.0610400005,2697343.0610400005,2697343.0610400005,2697343.0610400005,2697343.0610400005,2697343.0610400005,2697343.0610400005,2697343.0610400005,2697343.0610400005,2697343.0610400005,2697343.0610400005,2697343.0610400005,2697343.0610400005,2697343.0610400005,2697343.0610400005,2697343.0610400005,2697343.0610400005,2697343.0610400005,2697343.0610400005,2697343.0610400005,2697343.0610400005,2697343.0610400005,2697343.0610400005,2697343.0610400005,2697343.0610400005,2697343.0610400005,2697343.0610400005,2697343.0610400005,2697343.0610400005,2697343.0610400005,2697343.0610400005,2697343.0610400005,2697343.0610400005,2697343.0610400005,2697343.0610400005,2697343.0610400005,2697343.0610400005,2697343.0610400005,2697343.0610400005,2697343.0610400005,2697343.0610400005,2697343.0610400005,2697343.0610400005,2697343.0610400005,2697343.0610400005,2697343.0610400005,2697343.0610400005,2697343.0610400005,2697343.0610400005,2697343.0610400005,2697343.0610400005,2697343.0610400005,2697343.0610400005,2697343.0610400005,2697343.0610400005,2697343.0610400005,2697343.0610400005,2697343.0610400005,2697343.0610400005,2697343.0610400005,2697343.0610400005,2697343.0610400005,2697343.0610400005,2697343.0610400005,2697343.0610400005,2697343.0610400005,2697343.0610400005,2697343.0610400005,2697343.0610400005,2697343.0610400005,2697343.0610400005,2697343.0610400005,2697343.0610400005,2697343.0610400005,2697343.0610400005,2697343.0610400005,2697343.0610400005,2697343.0610400005,2697343.0610400005,2697343.0610400005,2697343.0610400005,2697343.0610400005,2697343.0610400005,2697343.0610400005,2697343.0610400005,2697343.0610400005,2697343.0610400005,2697343.0610400005,2697343.0610400005,2697343.0610400005,2697343.0610400005,2697343.0610400005,2697343.0610400005,2697343.0610400005,2697343.0610400005,2697343.0610400005,2697343.0610400005,2697343.0610400005,2697343.0610400005,2697343.0610400005,2697343.0610400005,2697343.0610400005,2697343.0610400005,2697343.0610400005,2697343.0610400005,2697343.0610400005,2697343.0610400005,2697343.0610400005,2697343.0610400005,2697343.0610400005,2697343.0610400005,2697343.0610400005,2697343.0610400005,2697343.0610400005,2697343.0610400005,2697343.0610400005,2697343.0610400005,2697343.0610400005,2697343.0610400005,2697343.0610400005,2697343.0610400005,2697343.0610400005,2697343.0610400005,2697343.0610400005,2697343.0610400005,2697343.0610400005,2697343.0610400005,2697343.0610400005,2697343.0610400005,2697343.0610400005,2697343.0610400005,2697343.0610400005,2697343.0610400005,2697343.0610400005,2697343.0610400005,2697343.0610400005,2697343.0610400005,2697343.0610400005,2697343.0610400005,2697343.0610400005,2697343.0610400005,2697343.0610400005,2697343.0610400005,2697343.0610400005,2697343.0610400005,2697343.0610400005,2697343.0610400005,2697343.0610400005,2697343.0610400005,2697343.0610400005,2697343.0610400005,2697343.0610400005,2697343.0610400005,2697343.0610400005,2697343.0610400005,2697343.0610400005,2697343.0610400005,2697343.0610400005,2697343.0610400005,2697343.0610400005,2697343.0610400005,2697343.0610400005,2697343.0610400005,2697343.0610400005,2697343.0610400005,2697343.0610400005,2697343.0610400005,2697343.0610400005,2697343.0610400005,2697343.0610400005,2697343.0610400005,2697343.0610400005,2697343.0610400005,2697343.0610400005,2697343.0610400005,2697343.0610400005,2697343.0610400005,2697343.0610400005,2697343.0610400005,2697343.0610400005,2697343.0610400005,2697343.0610400005,2697343.0610400005,2697343.0610400005,2697343.0610400005,2697343.0610400005,2697343.0610400005,2697343.0610400005,2697343.0610400005,2697343.0610400005,2697343.0610400005,2697343.0610400005,2697343.0610400005,2697343.0610400005,2697343.0610400005,2697343.0610400005,2697343.0610400005,2697343.0610400005,2697343.0610400005,2697343.0610400005,2697343.0610400005,2697343.0610400005,2697343.0610400005,2697343.0610400005,2697343.0610400005,2697343.0610400005,2697343.0610400005,2697343.0610400005,2697343.0610400005,2697343.0610400005,2697343.0610400005,2697343.0610400005,2697343.0610400005,2697343.0610400005,2697343.0610400005,2697343.0610400005,2697343.0610400005,2697343.0610400005,2697343.0610400005,2697343.0610400005,2697343.0610400005,2697343.0610400005,2697343.0610400005,2697343.0610400005,2697343.0610400005,2697343.0610400005,2697343.0610400005,2697343.0610400005,2697343.0610400005,2697343.0610400005,2697343.0610400005,2697343.0610400005,2697343.0610400005,2697343.0610400005,2697343.0610400005,2697343.0610400005,2697343.0610400005,2697343.0610400005,2697343.0610400005,2697343.0610400005,2697343.0610400005,2697343.0610400005,2697343.0610400005,2697343.0610400005,2697343.0610400005,2697343.0610400005,2697343.0610400005,2697343.0610400005,2697343.0610400005,2697343.0610400005,2697343.0610400005,2697343.0610400005,2697343.0610400005,2697343.0610400005,2697343.0610400005,2697343.0610400005,2697343.0610400005,2697343.0610400005,2697343.0610400005,2697343.0610400005,2697343.0610400005,2697343.0610400005,2697343.0610400005,2697343.0610400005,2697343.0610400005,2697343.0610400005,2697343.0610400005,2697343.0610400005,2697343.0610400005,2697343.0610400005,2697343.0610400005,2697343.0610400005,2697343.0610400005,2697343.0610400005,2697343.0610400005,2697343.0610400005,2697343.0610400005,2697343.0610400005,2697343.0610400005,2697343.0610400005,2697343.0610400005,2697343.0610400005,2697343.0610400005,2697343.0610400005,2697343.0610400005,2697343.0610400005,2697343.0610400005,2697343.0610400005,2697343.0610400005,2697343.0610400005,2697343.0610400005,2697343.0610400005,2697343.0610400005,2697343.0610400005,2697343.0610400005,2697343.0610400005,2697343.0610400005,2697343.0610400005,2697343.0610400005,2697343.0610400005,2697343.0610400005,2697343.0610400005,2697343.0610400005,2697343.0610400005,2697343.0610400005,2697343.0610400005,2697343.0610400005,2697343.0610400005,2697343.0610400005,2697343.0610400005,2697343.0610400005,2697343.0610400005,2697343.0610400005,2697343.0610400005,2697343.0610400005,2697343.0610400005,2697343.0610400005,2697343.0610400005,2697343.0610400005,2697343.0610400005,2697343.0610400005,2697343.0610400005,2697343.0610400005,2697343.0610400005,2697343.0610400005,2697343.0610400005,2697343.0610400005,2697343.0610400005,2697343.0610400005,2697343.0610400005,2697343.0610400005,2697343.0610400005,2697343.0610400005,2697343.0610400005,2697343.0610400005,2697343.0610400005,2697343.0610400005,2697343.0610400005,2697343.0610400005,2697343.0610400005,2697343.0610400005,2697343.0610400005,2697343.0610400005,2697343.0610400005,2697343.0610400005,2697343.0610400005,2697343.0610400005,2697343.0610400005,2697343.0610400005,2697343.0610400005,6.967,7888.693,5.5040000000000004,3977.276,4.751,6.787,624.651,21164.301,247.985,779.3820000000001],\"type\":\"choropleth\"}],                        {\"template\":{\"data\":{\"histogram2dcontour\":[{\"type\":\"histogram2dcontour\",\"colorbar\":{\"outlinewidth\":0,\"ticks\":\"\"},\"colorscale\":[[0.0,\"#0d0887\"],[0.1111111111111111,\"#46039f\"],[0.2222222222222222,\"#7201a8\"],[0.3333333333333333,\"#9c179e\"],[0.4444444444444444,\"#bd3786\"],[0.5555555555555556,\"#d8576b\"],[0.6666666666666666,\"#ed7953\"],[0.7777777777777778,\"#fb9f3a\"],[0.8888888888888888,\"#fdca26\"],[1.0,\"#f0f921\"]]}],\"choropleth\":[{\"type\":\"choropleth\",\"colorbar\":{\"outlinewidth\":0,\"ticks\":\"\"}}],\"histogram2d\":[{\"type\":\"histogram2d\",\"colorbar\":{\"outlinewidth\":0,\"ticks\":\"\"},\"colorscale\":[[0.0,\"#0d0887\"],[0.1111111111111111,\"#46039f\"],[0.2222222222222222,\"#7201a8\"],[0.3333333333333333,\"#9c179e\"],[0.4444444444444444,\"#bd3786\"],[0.5555555555555556,\"#d8576b\"],[0.6666666666666666,\"#ed7953\"],[0.7777777777777778,\"#fb9f3a\"],[0.8888888888888888,\"#fdca26\"],[1.0,\"#f0f921\"]]}],\"heatmap\":[{\"type\":\"heatmap\",\"colorbar\":{\"outlinewidth\":0,\"ticks\":\"\"},\"colorscale\":[[0.0,\"#0d0887\"],[0.1111111111111111,\"#46039f\"],[0.2222222222222222,\"#7201a8\"],[0.3333333333333333,\"#9c179e\"],[0.4444444444444444,\"#bd3786\"],[0.5555555555555556,\"#d8576b\"],[0.6666666666666666,\"#ed7953\"],[0.7777777777777778,\"#fb9f3a\"],[0.8888888888888888,\"#fdca26\"],[1.0,\"#f0f921\"]]}],\"heatmapgl\":[{\"type\":\"heatmapgl\",\"colorbar\":{\"outlinewidth\":0,\"ticks\":\"\"},\"colorscale\":[[0.0,\"#0d0887\"],[0.1111111111111111,\"#46039f\"],[0.2222222222222222,\"#7201a8\"],[0.3333333333333333,\"#9c179e\"],[0.4444444444444444,\"#bd3786\"],[0.5555555555555556,\"#d8576b\"],[0.6666666666666666,\"#ed7953\"],[0.7777777777777778,\"#fb9f3a\"],[0.8888888888888888,\"#fdca26\"],[1.0,\"#f0f921\"]]}],\"contourcarpet\":[{\"type\":\"contourcarpet\",\"colorbar\":{\"outlinewidth\":0,\"ticks\":\"\"}}],\"contour\":[{\"type\":\"contour\",\"colorbar\":{\"outlinewidth\":0,\"ticks\":\"\"},\"colorscale\":[[0.0,\"#0d0887\"],[0.1111111111111111,\"#46039f\"],[0.2222222222222222,\"#7201a8\"],[0.3333333333333333,\"#9c179e\"],[0.4444444444444444,\"#bd3786\"],[0.5555555555555556,\"#d8576b\"],[0.6666666666666666,\"#ed7953\"],[0.7777777777777778,\"#fb9f3a\"],[0.8888888888888888,\"#fdca26\"],[1.0,\"#f0f921\"]]}],\"surface\":[{\"type\":\"surface\",\"colorbar\":{\"outlinewidth\":0,\"ticks\":\"\"},\"colorscale\":[[0.0,\"#0d0887\"],[0.1111111111111111,\"#46039f\"],[0.2222222222222222,\"#7201a8\"],[0.3333333333333333,\"#9c179e\"],[0.4444444444444444,\"#bd3786\"],[0.5555555555555556,\"#d8576b\"],[0.6666666666666666,\"#ed7953\"],[0.7777777777777778,\"#fb9f3a\"],[0.8888888888888888,\"#fdca26\"],[1.0,\"#f0f921\"]]}],\"mesh3d\":[{\"type\":\"mesh3d\",\"colorbar\":{\"outlinewidth\":0,\"ticks\":\"\"}}],\"scatter\":[{\"fillpattern\":{\"fillmode\":\"overlay\",\"size\":10,\"solidity\":0.2},\"type\":\"scatter\"}],\"parcoords\":[{\"type\":\"parcoords\",\"line\":{\"colorbar\":{\"outlinewidth\":0,\"ticks\":\"\"}}}],\"scatterpolargl\":[{\"type\":\"scatterpolargl\",\"marker\":{\"colorbar\":{\"outlinewidth\":0,\"ticks\":\"\"}}}],\"bar\":[{\"error_x\":{\"color\":\"#2a3f5f\"},\"error_y\":{\"color\":\"#2a3f5f\"},\"marker\":{\"line\":{\"color\":\"#E5ECF6\",\"width\":0.5},\"pattern\":{\"fillmode\":\"overlay\",\"size\":10,\"solidity\":0.2}},\"type\":\"bar\"}],\"scattergeo\":[{\"type\":\"scattergeo\",\"marker\":{\"colorbar\":{\"outlinewidth\":0,\"ticks\":\"\"}}}],\"scatterpolar\":[{\"type\":\"scatterpolar\",\"marker\":{\"colorbar\":{\"outlinewidth\":0,\"ticks\":\"\"}}}],\"histogram\":[{\"marker\":{\"pattern\":{\"fillmode\":\"overlay\",\"size\":10,\"solidity\":0.2}},\"type\":\"histogram\"}],\"scattergl\":[{\"type\":\"scattergl\",\"marker\":{\"colorbar\":{\"outlinewidth\":0,\"ticks\":\"\"}}}],\"scatter3d\":[{\"type\":\"scatter3d\",\"line\":{\"colorbar\":{\"outlinewidth\":0,\"ticks\":\"\"}},\"marker\":{\"colorbar\":{\"outlinewidth\":0,\"ticks\":\"\"}}}],\"scattermapbox\":[{\"type\":\"scattermapbox\",\"marker\":{\"colorbar\":{\"outlinewidth\":0,\"ticks\":\"\"}}}],\"scatterternary\":[{\"type\":\"scatterternary\",\"marker\":{\"colorbar\":{\"outlinewidth\":0,\"ticks\":\"\"}}}],\"scattercarpet\":[{\"type\":\"scattercarpet\",\"marker\":{\"colorbar\":{\"outlinewidth\":0,\"ticks\":\"\"}}}],\"carpet\":[{\"aaxis\":{\"endlinecolor\":\"#2a3f5f\",\"gridcolor\":\"white\",\"linecolor\":\"white\",\"minorgridcolor\":\"white\",\"startlinecolor\":\"#2a3f5f\"},\"baxis\":{\"endlinecolor\":\"#2a3f5f\",\"gridcolor\":\"white\",\"linecolor\":\"white\",\"minorgridcolor\":\"white\",\"startlinecolor\":\"#2a3f5f\"},\"type\":\"carpet\"}],\"table\":[{\"cells\":{\"fill\":{\"color\":\"#EBF0F8\"},\"line\":{\"color\":\"white\"}},\"header\":{\"fill\":{\"color\":\"#C8D4E3\"},\"line\":{\"color\":\"white\"}},\"type\":\"table\"}],\"barpolar\":[{\"marker\":{\"line\":{\"color\":\"#E5ECF6\",\"width\":0.5},\"pattern\":{\"fillmode\":\"overlay\",\"size\":10,\"solidity\":0.2}},\"type\":\"barpolar\"}],\"pie\":[{\"automargin\":true,\"type\":\"pie\"}]},\"layout\":{\"autotypenumbers\":\"strict\",\"colorway\":[\"#636efa\",\"#EF553B\",\"#00cc96\",\"#ab63fa\",\"#FFA15A\",\"#19d3f3\",\"#FF6692\",\"#B6E880\",\"#FF97FF\",\"#FECB52\"],\"font\":{\"color\":\"#2a3f5f\"},\"hovermode\":\"closest\",\"hoverlabel\":{\"align\":\"left\"},\"paper_bgcolor\":\"white\",\"plot_bgcolor\":\"#E5ECF6\",\"polar\":{\"bgcolor\":\"#E5ECF6\",\"angularaxis\":{\"gridcolor\":\"white\",\"linecolor\":\"white\",\"ticks\":\"\"},\"radialaxis\":{\"gridcolor\":\"white\",\"linecolor\":\"white\",\"ticks\":\"\"}},\"ternary\":{\"bgcolor\":\"#E5ECF6\",\"aaxis\":{\"gridcolor\":\"white\",\"linecolor\":\"white\",\"ticks\":\"\"},\"baxis\":{\"gridcolor\":\"white\",\"linecolor\":\"white\",\"ticks\":\"\"},\"caxis\":{\"gridcolor\":\"white\",\"linecolor\":\"white\",\"ticks\":\"\"}},\"coloraxis\":{\"colorbar\":{\"outlinewidth\":0,\"ticks\":\"\"}},\"colorscale\":{\"sequential\":[[0.0,\"#0d0887\"],[0.1111111111111111,\"#46039f\"],[0.2222222222222222,\"#7201a8\"],[0.3333333333333333,\"#9c179e\"],[0.4444444444444444,\"#bd3786\"],[0.5555555555555556,\"#d8576b\"],[0.6666666666666666,\"#ed7953\"],[0.7777777777777778,\"#fb9f3a\"],[0.8888888888888888,\"#fdca26\"],[1.0,\"#f0f921\"]],\"sequentialminus\":[[0.0,\"#0d0887\"],[0.1111111111111111,\"#46039f\"],[0.2222222222222222,\"#7201a8\"],[0.3333333333333333,\"#9c179e\"],[0.4444444444444444,\"#bd3786\"],[0.5555555555555556,\"#d8576b\"],[0.6666666666666666,\"#ed7953\"],[0.7777777777777778,\"#fb9f3a\"],[0.8888888888888888,\"#fdca26\"],[1.0,\"#f0f921\"]],\"diverging\":[[0,\"#8e0152\"],[0.1,\"#c51b7d\"],[0.2,\"#de77ae\"],[0.3,\"#f1b6da\"],[0.4,\"#fde0ef\"],[0.5,\"#f7f7f7\"],[0.6,\"#e6f5d0\"],[0.7,\"#b8e186\"],[0.8,\"#7fbc41\"],[0.9,\"#4d9221\"],[1,\"#276419\"]]},\"xaxis\":{\"gridcolor\":\"white\",\"linecolor\":\"white\",\"ticks\":\"\",\"title\":{\"standoff\":15},\"zerolinecolor\":\"white\",\"automargin\":true,\"zerolinewidth\":2},\"yaxis\":{\"gridcolor\":\"white\",\"linecolor\":\"white\",\"ticks\":\"\",\"title\":{\"standoff\":15},\"zerolinecolor\":\"white\",\"automargin\":true,\"zerolinewidth\":2},\"scene\":{\"xaxis\":{\"backgroundcolor\":\"#E5ECF6\",\"gridcolor\":\"white\",\"linecolor\":\"white\",\"showbackground\":true,\"ticks\":\"\",\"zerolinecolor\":\"white\",\"gridwidth\":2},\"yaxis\":{\"backgroundcolor\":\"#E5ECF6\",\"gridcolor\":\"white\",\"linecolor\":\"white\",\"showbackground\":true,\"ticks\":\"\",\"zerolinecolor\":\"white\",\"gridwidth\":2},\"zaxis\":{\"backgroundcolor\":\"#E5ECF6\",\"gridcolor\":\"white\",\"linecolor\":\"white\",\"showbackground\":true,\"ticks\":\"\",\"zerolinecolor\":\"white\",\"gridwidth\":2}},\"shapedefaults\":{\"line\":{\"color\":\"#2a3f5f\"}},\"annotationdefaults\":{\"arrowcolor\":\"#2a3f5f\",\"arrowhead\":0,\"arrowwidth\":1},\"geo\":{\"bgcolor\":\"white\",\"landcolor\":\"#E5ECF6\",\"subunitcolor\":\"white\",\"showland\":true,\"showlakes\":true,\"lakecolor\":\"white\"},\"title\":{\"x\":0.05},\"mapbox\":{\"style\":\"light\"}}},\"geo\":{\"domain\":{\"x\":[0.0,1.0],\"y\":[0.0,1.0]},\"center\":{}},\"coloraxis\":{\"colorbar\":{\"title\":{\"text\":\"CO2_Emissions\"}},\"colorscale\":[[0.0,\"#440154\"],[0.1111111111111111,\"#482878\"],[0.2222222222222222,\"#3e4989\"],[0.3333333333333333,\"#31688e\"],[0.4444444444444444,\"#26828e\"],[0.5555555555555556,\"#1f9e89\"],[0.6666666666666666,\"#35b779\"],[0.7777777777777778,\"#6ece58\"],[0.8888888888888888,\"#b5de2b\"],[1.0,\"#fde725\"]]},\"legend\":{\"tracegroupgap\":0},\"title\":{\"text\":\"Global CO2 Emissions by Country\"}},                        {\"responsive\": true}                    ).then(function(){\n",
              "                            \n",
              "var gd = document.getElementById('fa4bd6d0-2566-4c0b-b654-255c2141d719');\n",
              "var x = new MutationObserver(function (mutations, observer) {{\n",
              "        var display = window.getComputedStyle(gd).display;\n",
              "        if (!display || display === 'none') {{\n",
              "            console.log([gd, 'removed!']);\n",
              "            Plotly.purge(gd);\n",
              "            observer.disconnect();\n",
              "        }}\n",
              "}});\n",
              "\n",
              "// Listen for the removal of the full notebook cells\n",
              "var notebookContainer = gd.closest('#notebook-container');\n",
              "if (notebookContainer) {{\n",
              "    x.observe(notebookContainer, {childList: true});\n",
              "}}\n",
              "\n",
              "// Listen for the clearing of the current output cell\n",
              "var outputEl = gd.closest('.output');\n",
              "if (outputEl) {{\n",
              "    x.observe(outputEl, {childList: true});\n",
              "}}\n",
              "\n",
              "                        })                };                            </script>        </div>\n",
              "</body>\n",
              "</html>"
            ]
          },
          "metadata": {}
        }
      ]
    },
    {
      "cell_type": "markdown",
      "source": [
        "Q2:How does a country's GDP relate to its CO2 emissions? Is there a correlation?"
      ],
      "metadata": {
        "id": "TzJSK8Im2EF4"
      }
    },
    {
      "cell_type": "code",
      "source": [
        "import pandas as pd\n",
        "import matplotlib.pyplot as plt\n",
        "from sklearn.linear_model import LinearRegression\n",
        "from sklearn.model_selection import train_test_split\n",
        "\n",
        "\n",
        "merged_data = pd.merge(data_cleaned, df, left_on='country', right_on='Country', how='inner')\n",
        "\n",
        "# Extracting relevant columns\n",
        "gdp_co2_data = merged_data[['country', 'gdp', 'total_ghg']]\n",
        "\n",
        "# Dropping rows with missing values\n",
        "gdp_co2_data = gdp_co2_data.dropna()\n",
        "\n",
        "# Removing commas from the 'gdp' column\n",
        "gdp_co2_data['gdp'] = gdp_co2_data['gdp'].str.replace(',', '').astype(float)\n",
        "\n",
        "# Scatter plot\n",
        "plt.figure(figsize=(10, 6))\n",
        "plt.scatter(gdp_co2_data['gdp'], gdp_co2_data['total_ghg'], alpha=0.5)\n",
        "plt.title('Scatter Plot of GDP vs. CO2 Emissions')\n",
        "plt.xlabel('GDP (in trillions)')\n",
        "plt.ylabel('Total CO2 Emissions (in megatons)')\n",
        "plt.show()\n",
        "\n",
        "# Regression analysis\n",
        "X = gdp_co2_data[['gdp']]\n",
        "y = gdp_co2_data['total_ghg']\n",
        "\n",
        "# Splitting the data into training and testing sets\n",
        "X_train, X_test, y_train, y_test = train_test_split(X, y, test_size=0.2, random_state=42)\n",
        "\n",
        "# Creating and fit the linear regression model\n",
        "model = LinearRegression()\n",
        "model.fit(X_train, y_train)\n",
        "\n",
        "# Making predictions on the test set\n",
        "y_pred = model.predict(X_test)\n",
        "\n",
        "# Plotting the regression line\n",
        "plt.figure(figsize=(10, 6))\n",
        "plt.scatter(X_test, y_test, alpha=0.5, label='Actual Data')\n",
        "plt.plot(X_test, y_pred, color='red', label='Regression Line')\n",
        "plt.title('Regression Analysis: GDP vs. CO2 Emissions')\n",
        "plt.xlabel('GDP (in trillions)')\n",
        "plt.ylabel('Total CO2 Emissions (in megatons)')\n",
        "plt.legend()\n",
        "plt.show()\n",
        "\n",
        "# Printing the regression coefficients\n",
        "print('Regression Coefficients:', model.coef_)\n",
        "print('Intercept:', model.intercept_)\n"
      ],
      "metadata": {
        "colab": {
          "base_uri": "https://localhost:8080/",
          "height": 1000
        },
        "id": "4E7kYmD8Gj_O",
        "outputId": "9801744e-a87e-4cb9-fd97-dc893394380b"
      },
      "execution_count": null,
      "outputs": [
        {
          "output_type": "display_data",
          "data": {
            "text/plain": [
              "<Figure size 1000x600 with 1 Axes>"
            ],
            "image/png": "[encoded data removed]"
          },
          "metadata": {}
        },
        {
          "output_type": "display_data",
          "data": {
            "text/plain": [
              "<Figure size 1000x600 with 1 Axes>"
            ],
            "image/png": "[encoded data removed]"
          },
          "metadata": {}
        },
        {
          "output_type": "stream",
          "name": "stdout",
          "text": [
            "Regression Coefficients: [4.504616e-10]\n",
            "Intercept: -55.8318874829705\n"
          ]
        }
      ]
    },
    {
      "cell_type": "markdown",
      "source": [
        "Q3: Which sectors contribute the most to CO2 emissions globally?"
      ],
      "metadata": {
        "id": "tECZ-q2H1iAZ"
      }
    },
    {
      "cell_type": "code",
      "source": [
        "import pandas as pd\n",
        "import matplotlib.pyplot as plt\n",
        "\n",
        "\n",
        "# Summing up the emissions from specified sectors across all countries\n",
        "sectors = ['coal_co2', 'cement_co2', 'flaring_co2', 'gas_co2', 'oil_co2', 'other_industry_co2']\n",
        "total_emissions_by_sector = data_cleaned[sectors].sum()\n",
        "\n",
        "# Plotting the results\n",
        "plt.figure(figsize=(10, 6))\n",
        "total_emissions_by_sector.plot(kind='bar')\n",
        "plt.title('Global CO2 Emissions by Sector')\n",
        "plt.xlabel('Sector')\n",
        "plt.ylabel('Total CO2 Emissions')\n",
        "plt.xticks(rotation=45)\n",
        "plt.show()\n"
      ],
      "metadata": {
        "colab": {
          "base_uri": "https://localhost:8080/",
          "height": 654
        },
        "id": "lSShSFquIHgL",
        "outputId": "c197fd2d-22c2-44fd-8f1e-369c5f83c365"
      },
      "execution_count": null,
      "outputs": [
        {
          "output_type": "display_data",
          "data": {
            "text/plain": [
              "<Figure size 1000x600 with 1 Axes>"
            ],
            "image/png": "[encoded data removed]"
          },
          "metadata": {}
        }
      ]
    },
    {
      "cell_type": "markdown",
      "source": [
        "Q4:How much does every sector contribute to the CO2 emission(top 20 countries)?"
      ],
      "metadata": {
        "id": "Cj0C9O-o1xPR"
      }
    },
    {
      "cell_type": "code",
      "source": [
        "\n",
        "\n",
        "import pandas as pd\n",
        "import matplotlib.pyplot as plt\n",
        "import seaborn as sns\n",
        "\n",
        "\n",
        "# Specifying all the sectors to include\n",
        "sectors = ['coal_co2', 'cement_co2', 'flaring_co2', 'gas_co2', 'oil_co2', 'other_industry_co2']\n",
        "\n",
        "# Grouping by country and calculating the average emissions from different sectors\n",
        "sector_emissions_all_countries = data_cleaned.groupby('country')[sectors].mean()\n",
        "\n",
        "# Plotting the results\n",
        "plt.figure(figsize=(15, 10))\n",
        "\n",
        "# Since there might be many countries, we'll plot the top 20 countries for clarity\n",
        "top_countries = sector_emissions_all_countries.mean(axis=1).nlargest(20).index\n",
        "sector_emissions_top_countries = sector_emissions_all_countries.loc[top_countries]\n",
        "\n",
        "# Melting the DataFrame for easier plotting with seaborn\n",
        "melted_data = sector_emissions_top_countries.reset_index().melt(id_vars='country', var_name='Sector', value_name='Emissions')\n",
        "\n",
        "# Creating a bar plot\n",
        "sns.barplot(x='Emissions', y='country', hue='Sector', data=melted_data)\n",
        "plt.title('Average Sector-Specific CO2 Emissions for Top 20 Countries')\n",
        "plt.xlabel('Average CO2 Emissions')\n",
        "plt.ylabel('Country')\n",
        "plt.legend(title='Sector')\n",
        "\n",
        "plt.show()\n",
        "\n"
      ],
      "metadata": {
        "colab": {
          "base_uri": "https://localhost:8080/",
          "height": 872
        },
        "id": "1-Opd_zrDzfs",
        "outputId": "4c702604-82df-4f06-8354-bf1d58c1b839"
      },
      "execution_count": null,
      "outputs": [
        {
          "output_type": "display_data",
          "data": {
            "text/plain": [
              "<Figure size 1500x1000 with 1 Axes>"
            ],
            "image/png": "[encoded data removed]"
          },
          "metadata": {}
        }
      ]
    },
    {
      "cell_type": "markdown",
      "source": [
        "Q5:What's the correlation between CO2 emissions and AQI(top 20 countries)?"
      ],
      "metadata": {
        "id": "S_ywBd3I2LA7"
      }
    },
    {
      "cell_type": "code",
      "source": [
        "import pandas as pd\n",
        "import matplotlib.pyplot as plt\n",
        "import seaborn as sns\n",
        "\n",
        "\n",
        "\n",
        "# Calculating the average AQI for each country in the air pollution dataset (df)\n",
        "average_aqi_per_country = df.groupby('Country')['AQI Value'].mean().reset_index()\n",
        "\n",
        "# Calculating the average CO2 emissions for each country in the CO2 dataset (data_cleaned)\n",
        "average_co2_per_country = data_cleaned.groupby('country')['CO2_Emissions'].mean().reset_index()\n",
        "\n",
        "# Merging the average AQI and CO2 emissions data\n",
        "merged_data = pd.merge(average_aqi_per_country, average_co2_per_country, left_on='Country', right_on='country')\n",
        "\n",
        "# Selecting the top 20 countries based on CO2 emissions for clarity in visualization\n",
        "top_20_co2_countries = merged_data.nlargest(20, 'CO2_Emissions')\n",
        "\n",
        "# Plotting the data\n",
        "plt.figure(figsize=(10, 6))\n",
        "sns.scatterplot(data=top_20_co2_countries, x='CO2_Emissions', y='AQI Value')\n",
        "plt.title('Correlation between AQI and CO2 Emissions in Top 20 Countries')\n",
        "plt.xlabel('Average CO2 Emissions')\n",
        "plt.ylabel('Average AQI Value')\n",
        "plt.show()\n",
        "\n",
        "# Computing correlation\n",
        "correlation = top_20_co2_countries['CO2_Emissions'].corr(top_20_co2_countries['AQI Value'])\n",
        "print(\"Correlation coefficient:\", correlation)\n"
      ],
      "metadata": {
        "colab": {
          "base_uri": "https://localhost:8080/",
          "height": 581
        },
        "id": "M0aob-fSLwPJ",
        "outputId": "159788d2-46ff-481d-b33e-ff3f3dae5594"
      },
      "execution_count": null,
      "outputs": [
        {
          "output_type": "display_data",
          "data": {
            "text/plain": [
              "<Figure size 1000x600 with 1 Axes>"
            ],
            "image/png": "[encoded data removed]"
          },
          "metadata": {}
        },
        {
          "output_type": "stream",
          "name": "stdout",
          "text": [
            "Correlation coefficient: 0.2856034687413324\n"
          ]
        }
      ]
    },
    {
      "cell_type": "markdown",
      "source": [
        "Q6: which pollutant has the biggest impact on AQI ?"
      ],
      "metadata": {
        "id": "6WjQrEOH3CWh"
      }
    },
    {
      "cell_type": "code",
      "source": [
        "import pandas as pd\n",
        "from sklearn.linear_model import LinearRegression\n",
        "from sklearn.model_selection import train_test_split\n",
        "import matplotlib.pyplot as plt\n",
        "\n",
        "\n",
        "# Selecting the AQI values for different pollutants\n",
        "X = df[['CO AQI Value', 'Ozone AQI Value', 'NO2 AQI Value', 'PM2.5 AQI Value']]  # Independent variables\n",
        "y = df['AQI Value']  # Dependent variable, the overall AQI\n",
        "\n",
        "# Splitting the data into training and testing sets\n",
        "X_train, X_test, y_train, y_test = train_test_split(X, y, test_size=0.2, random_state=42)\n",
        "\n",
        "# Creating a Linear Regression model\n",
        "model = LinearRegression()\n",
        "\n",
        "# Training the model\n",
        "model.fit(X_train, y_train)\n",
        "\n",
        "# Getting the coefficients from the model\n",
        "coefficients = pd.DataFrame(model.coef_, X.columns, columns=['Coefficient'])\n",
        "\n",
        "# Plotting the coefficients for visualization\n",
        "coefficients.plot(kind='bar')\n",
        "plt.title('Impact of Various Pollutants on AQI')\n",
        "plt.xlabel('Pollutant')\n",
        "plt.ylabel('Coefficient Value')\n",
        "plt.xticks(rotation=0)\n",
        "plt.grid(True)\n",
        "plt.show()\n"
      ],
      "metadata": {
        "colab": {
          "base_uri": "https://localhost:8080/",
          "height": 472
        },
        "id": "HbdMBhyZQExm",
        "outputId": "5d68d114-126b-422b-8324-e498e7296d9b"
      },
      "execution_count": null,
      "outputs": [
        {
          "output_type": "display_data",
          "data": {
            "text/plain": [
              "<Figure size 640x480 with 1 Axes>"
            ],
            "image/png": "[encoded data removed]"
          },
          "metadata": {}
        }
      ]
    },
    {
      "cell_type": "markdown",
      "source": [
        "D4:KEY FINDINGS\n",
        "\n",
        "1.The global distribution of CO2 emissions is uneven, with certain countries significantly outpacing others in emissions with USA having the higgest CO2 emission.\n",
        "\n",
        "2.Sector analysis revealed that coal and oil are the major contributors to global CO2 emissions.\n",
        "\n",
        "3.The top 20 emitting countries show varied sector-specific contributions to CO2 emissions, suggesting differing industrial activities impact their total emissions.\n",
        "\n",
        "4.A positive correlation exists between a country's GDP and its CO2 emissions, indicating that wealthier countries tend to emit more CO2.\n",
        "\n",
        "5.The correlation between CO2 emissions and AQI in the top 20 countries is positive but weak, suggesting other factors also significantly influence AQI.\n",
        "\n",
        "6.Among various pollutants, PM2.5 has the strongest positive impact on AQI, indicating it as a significant contributor to air quality degradation.\n"
      ],
      "metadata": {
        "id": "xzt36cru341y"
      }
    },
    {
      "cell_type": "markdown",
      "source": [
        "D5:SCOPE FOR FURTHER RESEARCH\n",
        "\n",
        "1.Investigate other factors influencing CO2 emissions and AQI, such as energy consumption patterns, industrialization levels, and urbanization rates.\n",
        "\n",
        "2.A comprehensive analysis considering more pollutants, including PM10, SO2, and NOx, could provide a more holistic view of factors affecting AQI.\n"
      ],
      "metadata": {
        "id": "2x4gZWHf4u6y"
      }
    },
    {
      "cell_type": "code",
      "source": [],
      "metadata": {
        "id": "OcN2kqQe44iM"
      },
      "execution_count": null,
      "outputs": []
    }
  ]
}